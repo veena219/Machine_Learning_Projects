{
 "cells": [
  {
   "cell_type": "markdown",
   "id": "47888e2b",
   "metadata": {},
   "source": [
    "# CREDIT CARD FRAUD ANALYSIS AND MODELING"
   ]
  },
  {
   "cell_type": "markdown",
   "id": "b645437f",
   "metadata": {},
   "source": [
    "# Importing Necessary Libraries"
   ]
  },
  {
   "cell_type": "code",
   "execution_count": 1,
   "id": "80bb86a5",
   "metadata": {},
   "outputs": [],
   "source": [
    "import pandas as pd\n",
    "import numpy as np\n",
    "import matplotlib.pyplot as plt\n",
    "import seaborn as sns\n",
    "import missingno as msno\n",
    "import warnings\n",
    "warnings.filterwarnings('ignore')\n",
    "plt.style.use('classic')"
   ]
  },
  {
   "cell_type": "markdown",
   "id": "8d047a20",
   "metadata": {},
   "source": [
    "# Loding The Dataset"
   ]
  },
  {
   "cell_type": "code",
   "execution_count": 2,
   "id": "53f65958",
   "metadata": {},
   "outputs": [],
   "source": [
    "credit_dataset=pd.read_csv(\"C:\\\\Users\\\\mevee\\\\Downloads\\\\fraudTrain.csv\\\\fraudTrain.csv\")"
   ]
  },
  {
   "cell_type": "code",
   "execution_count": 3,
   "id": "e049c37e",
   "metadata": {},
   "outputs": [
    {
     "data": {
      "text/html": [
       "<div>\n",
       "<style scoped>\n",
       "    .dataframe tbody tr th:only-of-type {\n",
       "        vertical-align: middle;\n",
       "    }\n",
       "\n",
       "    .dataframe tbody tr th {\n",
       "        vertical-align: top;\n",
       "    }\n",
       "\n",
       "    .dataframe thead th {\n",
       "        text-align: right;\n",
       "    }\n",
       "</style>\n",
       "<table border=\"1\" class=\"dataframe\">\n",
       "  <thead>\n",
       "    <tr style=\"text-align: right;\">\n",
       "      <th></th>\n",
       "      <th>Unnamed: 0</th>\n",
       "      <th>trans_date_trans_time</th>\n",
       "      <th>cc_num</th>\n",
       "      <th>merchant</th>\n",
       "      <th>category</th>\n",
       "      <th>amt</th>\n",
       "      <th>first</th>\n",
       "      <th>last</th>\n",
       "      <th>gender</th>\n",
       "      <th>street</th>\n",
       "      <th>...</th>\n",
       "      <th>lat</th>\n",
       "      <th>long</th>\n",
       "      <th>city_pop</th>\n",
       "      <th>job</th>\n",
       "      <th>dob</th>\n",
       "      <th>trans_num</th>\n",
       "      <th>unix_time</th>\n",
       "      <th>merch_lat</th>\n",
       "      <th>merch_long</th>\n",
       "      <th>is_fraud</th>\n",
       "    </tr>\n",
       "  </thead>\n",
       "  <tbody>\n",
       "    <tr>\n",
       "      <th>0</th>\n",
       "      <td>0</td>\n",
       "      <td>2019-01-01 00:00:18</td>\n",
       "      <td>2703186189652095</td>\n",
       "      <td>fraud_Rippin, Kub and Mann</td>\n",
       "      <td>misc_net</td>\n",
       "      <td>4.97</td>\n",
       "      <td>Jennifer</td>\n",
       "      <td>Banks</td>\n",
       "      <td>F</td>\n",
       "      <td>561 Perry Cove</td>\n",
       "      <td>...</td>\n",
       "      <td>36.0788</td>\n",
       "      <td>-81.1781</td>\n",
       "      <td>3495</td>\n",
       "      <td>Psychologist, counselling</td>\n",
       "      <td>1988-03-09</td>\n",
       "      <td>0b242abb623afc578575680df30655b9</td>\n",
       "      <td>1325376018</td>\n",
       "      <td>36.011293</td>\n",
       "      <td>-82.048315</td>\n",
       "      <td>0</td>\n",
       "    </tr>\n",
       "    <tr>\n",
       "      <th>1</th>\n",
       "      <td>1</td>\n",
       "      <td>2019-01-01 00:00:44</td>\n",
       "      <td>630423337322</td>\n",
       "      <td>fraud_Heller, Gutmann and Zieme</td>\n",
       "      <td>grocery_pos</td>\n",
       "      <td>107.23</td>\n",
       "      <td>Stephanie</td>\n",
       "      <td>Gill</td>\n",
       "      <td>F</td>\n",
       "      <td>43039 Riley Greens Suite 393</td>\n",
       "      <td>...</td>\n",
       "      <td>48.8878</td>\n",
       "      <td>-118.2105</td>\n",
       "      <td>149</td>\n",
       "      <td>Special educational needs teacher</td>\n",
       "      <td>1978-06-21</td>\n",
       "      <td>1f76529f8574734946361c461b024d99</td>\n",
       "      <td>1325376044</td>\n",
       "      <td>49.159047</td>\n",
       "      <td>-118.186462</td>\n",
       "      <td>0</td>\n",
       "    </tr>\n",
       "    <tr>\n",
       "      <th>2</th>\n",
       "      <td>2</td>\n",
       "      <td>2019-01-01 00:00:51</td>\n",
       "      <td>38859492057661</td>\n",
       "      <td>fraud_Lind-Buckridge</td>\n",
       "      <td>entertainment</td>\n",
       "      <td>220.11</td>\n",
       "      <td>Edward</td>\n",
       "      <td>Sanchez</td>\n",
       "      <td>M</td>\n",
       "      <td>594 White Dale Suite 530</td>\n",
       "      <td>...</td>\n",
       "      <td>42.1808</td>\n",
       "      <td>-112.2620</td>\n",
       "      <td>4154</td>\n",
       "      <td>Nature conservation officer</td>\n",
       "      <td>1962-01-19</td>\n",
       "      <td>a1a22d70485983eac12b5b88dad1cf95</td>\n",
       "      <td>1325376051</td>\n",
       "      <td>43.150704</td>\n",
       "      <td>-112.154481</td>\n",
       "      <td>0</td>\n",
       "    </tr>\n",
       "    <tr>\n",
       "      <th>3</th>\n",
       "      <td>3</td>\n",
       "      <td>2019-01-01 00:01:16</td>\n",
       "      <td>3534093764340240</td>\n",
       "      <td>fraud_Kutch, Hermiston and Farrell</td>\n",
       "      <td>gas_transport</td>\n",
       "      <td>45.00</td>\n",
       "      <td>Jeremy</td>\n",
       "      <td>White</td>\n",
       "      <td>M</td>\n",
       "      <td>9443 Cynthia Court Apt. 038</td>\n",
       "      <td>...</td>\n",
       "      <td>46.2306</td>\n",
       "      <td>-112.1138</td>\n",
       "      <td>1939</td>\n",
       "      <td>Patent attorney</td>\n",
       "      <td>1967-01-12</td>\n",
       "      <td>6b849c168bdad6f867558c3793159a81</td>\n",
       "      <td>1325376076</td>\n",
       "      <td>47.034331</td>\n",
       "      <td>-112.561071</td>\n",
       "      <td>0</td>\n",
       "    </tr>\n",
       "    <tr>\n",
       "      <th>4</th>\n",
       "      <td>4</td>\n",
       "      <td>2019-01-01 00:03:06</td>\n",
       "      <td>375534208663984</td>\n",
       "      <td>fraud_Keeling-Crist</td>\n",
       "      <td>misc_pos</td>\n",
       "      <td>41.96</td>\n",
       "      <td>Tyler</td>\n",
       "      <td>Garcia</td>\n",
       "      <td>M</td>\n",
       "      <td>408 Bradley Rest</td>\n",
       "      <td>...</td>\n",
       "      <td>38.4207</td>\n",
       "      <td>-79.4629</td>\n",
       "      <td>99</td>\n",
       "      <td>Dance movement psychotherapist</td>\n",
       "      <td>1986-03-28</td>\n",
       "      <td>a41d7549acf90789359a9aa5346dcb46</td>\n",
       "      <td>1325376186</td>\n",
       "      <td>38.674999</td>\n",
       "      <td>-78.632459</td>\n",
       "      <td>0</td>\n",
       "    </tr>\n",
       "  </tbody>\n",
       "</table>\n",
       "<p>5 rows × 23 columns</p>\n",
       "</div>"
      ],
      "text/plain": [
       "   Unnamed: 0 trans_date_trans_time            cc_num  \\\n",
       "0           0   2019-01-01 00:00:18  2703186189652095   \n",
       "1           1   2019-01-01 00:00:44      630423337322   \n",
       "2           2   2019-01-01 00:00:51    38859492057661   \n",
       "3           3   2019-01-01 00:01:16  3534093764340240   \n",
       "4           4   2019-01-01 00:03:06   375534208663984   \n",
       "\n",
       "                             merchant       category     amt      first  \\\n",
       "0          fraud_Rippin, Kub and Mann       misc_net    4.97   Jennifer   \n",
       "1     fraud_Heller, Gutmann and Zieme    grocery_pos  107.23  Stephanie   \n",
       "2                fraud_Lind-Buckridge  entertainment  220.11     Edward   \n",
       "3  fraud_Kutch, Hermiston and Farrell  gas_transport   45.00     Jeremy   \n",
       "4                 fraud_Keeling-Crist       misc_pos   41.96      Tyler   \n",
       "\n",
       "      last gender                        street  ...      lat      long  \\\n",
       "0    Banks      F                561 Perry Cove  ...  36.0788  -81.1781   \n",
       "1     Gill      F  43039 Riley Greens Suite 393  ...  48.8878 -118.2105   \n",
       "2  Sanchez      M      594 White Dale Suite 530  ...  42.1808 -112.2620   \n",
       "3    White      M   9443 Cynthia Court Apt. 038  ...  46.2306 -112.1138   \n",
       "4   Garcia      M              408 Bradley Rest  ...  38.4207  -79.4629   \n",
       "\n",
       "   city_pop                                job         dob  \\\n",
       "0      3495          Psychologist, counselling  1988-03-09   \n",
       "1       149  Special educational needs teacher  1978-06-21   \n",
       "2      4154        Nature conservation officer  1962-01-19   \n",
       "3      1939                    Patent attorney  1967-01-12   \n",
       "4        99     Dance movement psychotherapist  1986-03-28   \n",
       "\n",
       "                          trans_num   unix_time  merch_lat  merch_long  \\\n",
       "0  0b242abb623afc578575680df30655b9  1325376018  36.011293  -82.048315   \n",
       "1  1f76529f8574734946361c461b024d99  1325376044  49.159047 -118.186462   \n",
       "2  a1a22d70485983eac12b5b88dad1cf95  1325376051  43.150704 -112.154481   \n",
       "3  6b849c168bdad6f867558c3793159a81  1325376076  47.034331 -112.561071   \n",
       "4  a41d7549acf90789359a9aa5346dcb46  1325376186  38.674999  -78.632459   \n",
       "\n",
       "   is_fraud  \n",
       "0         0  \n",
       "1         0  \n",
       "2         0  \n",
       "3         0  \n",
       "4         0  \n",
       "\n",
       "[5 rows x 23 columns]"
      ]
     },
     "execution_count": 3,
     "metadata": {},
     "output_type": "execute_result"
    }
   ],
   "source": [
    "credit_dataset.head()"
   ]
  },
  {
   "cell_type": "code",
   "execution_count": 4,
   "id": "1275b5ac",
   "metadata": {},
   "outputs": [
    {
     "name": "stdout",
     "output_type": "stream",
     "text": [
      "(1296675, 23)\n"
     ]
    }
   ],
   "source": [
    "print(credit_dataset.shape)"
   ]
  },
  {
   "cell_type": "code",
   "execution_count": 5,
   "id": "2cf2c9b3",
   "metadata": {},
   "outputs": [
    {
     "data": {
      "text/plain": [
       "Index(['Unnamed: 0', 'trans_date_trans_time', 'cc_num', 'merchant', 'category',\n",
       "       'amt', 'first', 'last', 'gender', 'street', 'city', 'state', 'zip',\n",
       "       'lat', 'long', 'city_pop', 'job', 'dob', 'trans_num', 'unix_time',\n",
       "       'merch_lat', 'merch_long', 'is_fraud'],\n",
       "      dtype='object')"
      ]
     },
     "execution_count": 5,
     "metadata": {},
     "output_type": "execute_result"
    }
   ],
   "source": [
    "credit_dataset.columns"
   ]
  },
  {
   "cell_type": "code",
   "execution_count": 6,
   "id": "706229c2",
   "metadata": {},
   "outputs": [
    {
     "name": "stdout",
     "output_type": "stream",
     "text": [
      "<class 'pandas.core.frame.DataFrame'>\n",
      "RangeIndex: 1296675 entries, 0 to 1296674\n",
      "Data columns (total 23 columns):\n",
      " #   Column                 Non-Null Count    Dtype  \n",
      "---  ------                 --------------    -----  \n",
      " 0   Unnamed: 0             1296675 non-null  int64  \n",
      " 1   trans_date_trans_time  1296675 non-null  object \n",
      " 2   cc_num                 1296675 non-null  int64  \n",
      " 3   merchant               1296675 non-null  object \n",
      " 4   category               1296675 non-null  object \n",
      " 5   amt                    1296675 non-null  float64\n",
      " 6   first                  1296675 non-null  object \n",
      " 7   last                   1296675 non-null  object \n",
      " 8   gender                 1296675 non-null  object \n",
      " 9   street                 1296675 non-null  object \n",
      " 10  city                   1296675 non-null  object \n",
      " 11  state                  1296675 non-null  object \n",
      " 12  zip                    1296675 non-null  int64  \n",
      " 13  lat                    1296675 non-null  float64\n",
      " 14  long                   1296675 non-null  float64\n",
      " 15  city_pop               1296675 non-null  int64  \n",
      " 16  job                    1296675 non-null  object \n",
      " 17  dob                    1296675 non-null  object \n",
      " 18  trans_num              1296675 non-null  object \n",
      " 19  unix_time              1296675 non-null  int64  \n",
      " 20  merch_lat              1296675 non-null  float64\n",
      " 21  merch_long             1296675 non-null  float64\n",
      " 22  is_fraud               1296675 non-null  int64  \n",
      "dtypes: float64(5), int64(6), object(12)\n",
      "memory usage: 227.5+ MB\n"
     ]
    }
   ],
   "source": [
    "credit_dataset.info()"
   ]
  },
  {
   "cell_type": "code",
   "execution_count": 7,
   "id": "bab54494",
   "metadata": {},
   "outputs": [
    {
     "data": {
      "text/plain": [
       "<AxesSubplot:>"
      ]
     },
     "execution_count": 7,
     "metadata": {},
     "output_type": "execute_result"
    },
    {
     "data": {
      "image/png": "[encoded data removed]",
      "text/plain": [
       "<Figure size 2000x800 with 3 Axes>"
      ]
     },
     "metadata": {},
     "output_type": "display_data"
    }
   ],
   "source": [
    "msno.bar(credit_dataset)"
   ]
  },
  {
   "cell_type": "markdown",
   "id": "1af561ec",
   "metadata": {},
   "source": [
    "# Duplicates"
   ]
  },
  {
   "cell_type": "code",
   "execution_count": 8,
   "id": "2c0f1a3f",
   "metadata": {},
   "outputs": [
    {
     "name": "stdout",
     "output_type": "stream",
     "text": [
      "0\n"
     ]
    }
   ],
   "source": [
    "print(credit_dataset.duplicated().sum())"
   ]
  },
  {
   "cell_type": "markdown",
   "id": "63bb685f",
   "metadata": {},
   "source": [
    "# Extract Date Time Componet"
   ]
  },
  {
   "cell_type": "code",
   "execution_count": 9,
   "id": "d5a99e6b",
   "metadata": {},
   "outputs": [
    {
     "data": {
      "text/plain": [
       "dtype('O')"
      ]
     },
     "execution_count": 9,
     "metadata": {},
     "output_type": "execute_result"
    }
   ],
   "source": [
    "credit_dataset['trans_date_trans_time'].dtypes"
   ]
  },
  {
   "cell_type": "code",
   "execution_count": 10,
   "id": "987857a4",
   "metadata": {},
   "outputs": [
    {
     "data": {
      "text/plain": [
       "0         2019-01-01 00:00:18\n",
       "1         2019-01-01 00:00:44\n",
       "2         2019-01-01 00:00:51\n",
       "3         2019-01-01 00:01:16\n",
       "4         2019-01-01 00:03:06\n",
       "                  ...        \n",
       "1296670   2020-06-21 12:12:08\n",
       "1296671   2020-06-21 12:12:19\n",
       "1296672   2020-06-21 12:12:32\n",
       "1296673   2020-06-21 12:13:36\n",
       "1296674   2020-06-21 12:13:37\n",
       "Name: trans_date_trans_time, Length: 1296675, dtype: datetime64[ns]"
      ]
     },
     "execution_count": 10,
     "metadata": {},
     "output_type": "execute_result"
    }
   ],
   "source": [
    "credit_dataset['trans_date_trans_time']=pd.to_datetime(credit_dataset['trans_date_trans_time'])\n",
    "credit_dataset['trans_date_trans_time']"
   ]
  },
  {
   "cell_type": "code",
   "execution_count": 11,
   "id": "65090a5e",
   "metadata": {},
   "outputs": [],
   "source": [
    "credit_dataset['year']=credit_dataset['trans_date_trans_time'].dt.year\n",
    "credit_dataset['month']=credit_dataset['trans_date_trans_time'].dt.month\n",
    "credit_dataset['day']=credit_dataset['trans_date_trans_time'].dt.day\n",
    "credit_dataset['hour']=credit_dataset['trans_date_trans_time'].dt.hour\n",
    "credit_dataset['minute']=credit_dataset['trans_date_trans_time'].dt.minute\n",
    "credit_dataset['second']=credit_dataset['trans_date_trans_time'].dt.second\n"
   ]
  },
  {
   "cell_type": "markdown",
   "id": "d0419828",
   "metadata": {},
   "source": [
    "# Calculating Age"
   ]
  },
  {
   "cell_type": "code",
   "execution_count": 12,
   "id": "d623cbff",
   "metadata": {},
   "outputs": [],
   "source": [
    "credit_dataset['age'] = (pd.to_datetime('today').year - pd.DatetimeIndex(credit_dataset['dob']).year )"
   ]
  },
  {
   "cell_type": "markdown",
   "id": "c1e94578",
   "metadata": {},
   "source": [
    "# Extracting Numbers From Street Column"
   ]
  },
  {
   "cell_type": "code",
   "execution_count": 13,
   "id": "40ae0820",
   "metadata": {},
   "outputs": [
    {
     "data": {
      "text/html": [
       "<div>\n",
       "<style scoped>\n",
       "    .dataframe tbody tr th:only-of-type {\n",
       "        vertical-align: middle;\n",
       "    }\n",
       "\n",
       "    .dataframe tbody tr th {\n",
       "        vertical-align: top;\n",
       "    }\n",
       "\n",
       "    .dataframe thead th {\n",
       "        text-align: right;\n",
       "    }\n",
       "</style>\n",
       "<table border=\"1\" class=\"dataframe\">\n",
       "  <thead>\n",
       "    <tr style=\"text-align: right;\">\n",
       "      <th></th>\n",
       "      <th>Unnamed: 0</th>\n",
       "      <th>trans_date_trans_time</th>\n",
       "      <th>cc_num</th>\n",
       "      <th>merchant</th>\n",
       "      <th>category</th>\n",
       "      <th>amt</th>\n",
       "      <th>first</th>\n",
       "      <th>last</th>\n",
       "      <th>gender</th>\n",
       "      <th>street</th>\n",
       "      <th>...</th>\n",
       "      <th>merch_lat</th>\n",
       "      <th>merch_long</th>\n",
       "      <th>is_fraud</th>\n",
       "      <th>year</th>\n",
       "      <th>month</th>\n",
       "      <th>day</th>\n",
       "      <th>hour</th>\n",
       "      <th>minute</th>\n",
       "      <th>second</th>\n",
       "      <th>age</th>\n",
       "    </tr>\n",
       "  </thead>\n",
       "  <tbody>\n",
       "    <tr>\n",
       "      <th>0</th>\n",
       "      <td>0</td>\n",
       "      <td>2019-01-01 00:00:18</td>\n",
       "      <td>2703186189652095</td>\n",
       "      <td>fraud_Rippin, Kub and Mann</td>\n",
       "      <td>misc_net</td>\n",
       "      <td>4.97</td>\n",
       "      <td>Jennifer</td>\n",
       "      <td>Banks</td>\n",
       "      <td>F</td>\n",
       "      <td>561 Perry Cove</td>\n",
       "      <td>...</td>\n",
       "      <td>36.011293</td>\n",
       "      <td>-82.048315</td>\n",
       "      <td>0</td>\n",
       "      <td>2019</td>\n",
       "      <td>1</td>\n",
       "      <td>1</td>\n",
       "      <td>0</td>\n",
       "      <td>0</td>\n",
       "      <td>18</td>\n",
       "      <td>35</td>\n",
       "    </tr>\n",
       "    <tr>\n",
       "      <th>1</th>\n",
       "      <td>1</td>\n",
       "      <td>2019-01-01 00:00:44</td>\n",
       "      <td>630423337322</td>\n",
       "      <td>fraud_Heller, Gutmann and Zieme</td>\n",
       "      <td>grocery_pos</td>\n",
       "      <td>107.23</td>\n",
       "      <td>Stephanie</td>\n",
       "      <td>Gill</td>\n",
       "      <td>F</td>\n",
       "      <td>43039 Riley Greens Suite 393</td>\n",
       "      <td>...</td>\n",
       "      <td>49.159047</td>\n",
       "      <td>-118.186462</td>\n",
       "      <td>0</td>\n",
       "      <td>2019</td>\n",
       "      <td>1</td>\n",
       "      <td>1</td>\n",
       "      <td>0</td>\n",
       "      <td>0</td>\n",
       "      <td>44</td>\n",
       "      <td>45</td>\n",
       "    </tr>\n",
       "    <tr>\n",
       "      <th>2</th>\n",
       "      <td>2</td>\n",
       "      <td>2019-01-01 00:00:51</td>\n",
       "      <td>38859492057661</td>\n",
       "      <td>fraud_Lind-Buckridge</td>\n",
       "      <td>entertainment</td>\n",
       "      <td>220.11</td>\n",
       "      <td>Edward</td>\n",
       "      <td>Sanchez</td>\n",
       "      <td>M</td>\n",
       "      <td>594 White Dale Suite 530</td>\n",
       "      <td>...</td>\n",
       "      <td>43.150704</td>\n",
       "      <td>-112.154481</td>\n",
       "      <td>0</td>\n",
       "      <td>2019</td>\n",
       "      <td>1</td>\n",
       "      <td>1</td>\n",
       "      <td>0</td>\n",
       "      <td>0</td>\n",
       "      <td>51</td>\n",
       "      <td>61</td>\n",
       "    </tr>\n",
       "    <tr>\n",
       "      <th>3</th>\n",
       "      <td>3</td>\n",
       "      <td>2019-01-01 00:01:16</td>\n",
       "      <td>3534093764340240</td>\n",
       "      <td>fraud_Kutch, Hermiston and Farrell</td>\n",
       "      <td>gas_transport</td>\n",
       "      <td>45.00</td>\n",
       "      <td>Jeremy</td>\n",
       "      <td>White</td>\n",
       "      <td>M</td>\n",
       "      <td>9443 Cynthia Court Apt. 038</td>\n",
       "      <td>...</td>\n",
       "      <td>47.034331</td>\n",
       "      <td>-112.561071</td>\n",
       "      <td>0</td>\n",
       "      <td>2019</td>\n",
       "      <td>1</td>\n",
       "      <td>1</td>\n",
       "      <td>0</td>\n",
       "      <td>1</td>\n",
       "      <td>16</td>\n",
       "      <td>56</td>\n",
       "    </tr>\n",
       "    <tr>\n",
       "      <th>4</th>\n",
       "      <td>4</td>\n",
       "      <td>2019-01-01 00:03:06</td>\n",
       "      <td>375534208663984</td>\n",
       "      <td>fraud_Keeling-Crist</td>\n",
       "      <td>misc_pos</td>\n",
       "      <td>41.96</td>\n",
       "      <td>Tyler</td>\n",
       "      <td>Garcia</td>\n",
       "      <td>M</td>\n",
       "      <td>408 Bradley Rest</td>\n",
       "      <td>...</td>\n",
       "      <td>38.674999</td>\n",
       "      <td>-78.632459</td>\n",
       "      <td>0</td>\n",
       "      <td>2019</td>\n",
       "      <td>1</td>\n",
       "      <td>1</td>\n",
       "      <td>0</td>\n",
       "      <td>3</td>\n",
       "      <td>6</td>\n",
       "      <td>37</td>\n",
       "    </tr>\n",
       "  </tbody>\n",
       "</table>\n",
       "<p>5 rows × 30 columns</p>\n",
       "</div>"
      ],
      "text/plain": [
       "   Unnamed: 0 trans_date_trans_time            cc_num  \\\n",
       "0           0   2019-01-01 00:00:18  2703186189652095   \n",
       "1           1   2019-01-01 00:00:44      630423337322   \n",
       "2           2   2019-01-01 00:00:51    38859492057661   \n",
       "3           3   2019-01-01 00:01:16  3534093764340240   \n",
       "4           4   2019-01-01 00:03:06   375534208663984   \n",
       "\n",
       "                             merchant       category     amt      first  \\\n",
       "0          fraud_Rippin, Kub and Mann       misc_net    4.97   Jennifer   \n",
       "1     fraud_Heller, Gutmann and Zieme    grocery_pos  107.23  Stephanie   \n",
       "2                fraud_Lind-Buckridge  entertainment  220.11     Edward   \n",
       "3  fraud_Kutch, Hermiston and Farrell  gas_transport   45.00     Jeremy   \n",
       "4                 fraud_Keeling-Crist       misc_pos   41.96      Tyler   \n",
       "\n",
       "      last gender                        street  ...  merch_lat  merch_long  \\\n",
       "0    Banks      F                561 Perry Cove  ...  36.011293  -82.048315   \n",
       "1     Gill      F  43039 Riley Greens Suite 393  ...  49.159047 -118.186462   \n",
       "2  Sanchez      M      594 White Dale Suite 530  ...  43.150704 -112.154481   \n",
       "3    White      M   9443 Cynthia Court Apt. 038  ...  47.034331 -112.561071   \n",
       "4   Garcia      M              408 Bradley Rest  ...  38.674999  -78.632459   \n",
       "\n",
       "   is_fraud  year  month  day hour minute second  age  \n",
       "0         0  2019      1    1    0      0     18   35  \n",
       "1         0  2019      1    1    0      0     44   45  \n",
       "2         0  2019      1    1    0      0     51   61  \n",
       "3         0  2019      1    1    0      1     16   56  \n",
       "4         0  2019      1    1    0      3      6   37  \n",
       "\n",
       "[5 rows x 30 columns]"
      ]
     },
     "execution_count": 13,
     "metadata": {},
     "output_type": "execute_result"
    }
   ],
   "source": [
    "credit_dataset.head()"
   ]
  },
  {
   "cell_type": "code",
   "execution_count": 14,
   "id": "064aa65a",
   "metadata": {},
   "outputs": [],
   "source": [
    "street_num=[]\n",
    "for i in credit_dataset['street']:\n",
    "    i=str(i)\n",
    "    a=i.split(\" \")\n",
    "    street_num.append(a[0])"
   ]
  },
  {
   "cell_type": "code",
   "execution_count": 15,
   "id": "b532d14a",
   "metadata": {},
   "outputs": [],
   "source": [
    "#street_num"
   ]
  },
  {
   "cell_type": "code",
   "execution_count": 16,
   "id": "5b0240ad",
   "metadata": {},
   "outputs": [],
   "source": [
    "credit_dataset['street_num']=street_num"
   ]
  },
  {
   "cell_type": "code",
   "execution_count": 17,
   "id": "008ff8e9",
   "metadata": {},
   "outputs": [
    {
     "name": "stdout",
     "output_type": "stream",
     "text": [
      "object\n"
     ]
    }
   ],
   "source": [
    "print(credit_dataset.street_num.dtypes)"
   ]
  },
  {
   "cell_type": "code",
   "execution_count": 18,
   "id": "c3503bf2",
   "metadata": {},
   "outputs": [],
   "source": [
    "credit_dataset['street_num']=credit_dataset['street_num'].astype('int64')"
   ]
  },
  {
   "cell_type": "markdown",
   "id": "219f6484",
   "metadata": {},
   "source": [
    "# Finding Outliers"
   ]
  },
  {
   "cell_type": "code",
   "execution_count": 19,
   "id": "54aca1d8",
   "metadata": {},
   "outputs": [
    {
     "data": {
      "text/plain": [
       "<AxesSubplot:title={'center':'street_num'}>"
      ]
     },
     "execution_count": 19,
     "metadata": {},
     "output_type": "execute_result"
    },
    {
     "data": {
      "image/png": "[encoded data removed]",
      "text/plain": [
       "<Figure size 800x640 with 11 Axes>"
      ]
     },
     "metadata": {},
     "output_type": "display_data"
    }
   ],
   "source": [
    "fig = plt.figure(figsize=(10,8))\n",
    "plt.subplot(3,4,1)\n",
    "plt.title('cc_num')\n",
    "sns.boxplot(data = credit_dataset['cc_num'])\n",
    "\n",
    "plt.subplot(3,4,2)\n",
    "plt.title('amt')\n",
    "sns.boxplot(data = credit_dataset['amt'])\n",
    "\n",
    "plt.subplot(3,4,3)\n",
    "plt.title('zip')\n",
    "sns.boxplot(data = credit_dataset['zip'])\n",
    "\n",
    "plt.subplot(3,4,4)\n",
    "plt.title('lat')\n",
    "sns.boxplot(data = credit_dataset['lat'])\n",
    "\n",
    "plt.subplot(3,4,5)\n",
    "plt.title('long')\n",
    "sns.boxplot(data = credit_dataset['long'])\n",
    "\n",
    "plt.subplot(3,4,6)\n",
    "plt.title('city_pop')\n",
    "sns.boxplot(data = credit_dataset['city_pop'])\n",
    "\n",
    "plt.subplot(3,4,7)\n",
    "plt.title('unix_time')\n",
    "sns.boxplot(data = credit_dataset['unix_time'])\n",
    "\n",
    "plt.subplot(3,4,8)\n",
    "plt.title('merch_lat')\n",
    "sns.boxplot(data = credit_dataset['merch_lat'])\n",
    "\n",
    "plt.subplot(3,4,9)\n",
    "plt.title('merch_long')\n",
    "sns.boxplot(data = credit_dataset['merch_long'])\n",
    "\n",
    "plt.subplot(3,4,10)\n",
    "plt.title('age')\n",
    "sns.boxplot(data = credit_dataset['age'])\n",
    "\n",
    "plt.subplot(3,4,11)\n",
    "plt.title('street_num')\n",
    "sns.boxplot(data = credit_dataset['street_num'])\n"
   ]
  },
  {
   "cell_type": "markdown",
   "id": "dce4e7c9",
   "metadata": {},
   "source": [
    "# Drop Unnecessary Columns"
   ]
  },
  {
   "cell_type": "code",
   "execution_count": 20,
   "id": "d3646d93",
   "metadata": {},
   "outputs": [
    {
     "data": {
      "text/html": [
       "<div>\n",
       "<style scoped>\n",
       "    .dataframe tbody tr th:only-of-type {\n",
       "        vertical-align: middle;\n",
       "    }\n",
       "\n",
       "    .dataframe tbody tr th {\n",
       "        vertical-align: top;\n",
       "    }\n",
       "\n",
       "    .dataframe thead th {\n",
       "        text-align: right;\n",
       "    }\n",
       "</style>\n",
       "<table border=\"1\" class=\"dataframe\">\n",
       "  <thead>\n",
       "    <tr style=\"text-align: right;\">\n",
       "      <th></th>\n",
       "      <th>Unnamed: 0</th>\n",
       "      <th>cc_num</th>\n",
       "      <th>amt</th>\n",
       "      <th>zip</th>\n",
       "      <th>lat</th>\n",
       "      <th>long</th>\n",
       "      <th>city_pop</th>\n",
       "      <th>unix_time</th>\n",
       "      <th>merch_lat</th>\n",
       "      <th>merch_long</th>\n",
       "      <th>is_fraud</th>\n",
       "      <th>year</th>\n",
       "      <th>month</th>\n",
       "      <th>day</th>\n",
       "      <th>hour</th>\n",
       "      <th>minute</th>\n",
       "      <th>second</th>\n",
       "      <th>age</th>\n",
       "      <th>street_num</th>\n",
       "    </tr>\n",
       "  </thead>\n",
       "  <tbody>\n",
       "    <tr>\n",
       "      <th>Unnamed: 0</th>\n",
       "      <td>1.000000</td>\n",
       "      <td>0.000386</td>\n",
       "      <td>-0.000251</td>\n",
       "      <td>0.000709</td>\n",
       "      <td>0.000602</td>\n",
       "      <td>-0.000676</td>\n",
       "      <td>-0.001678</td>\n",
       "      <td>0.998971</td>\n",
       "      <td>0.000541</td>\n",
       "      <td>-0.000671</td>\n",
       "      <td>-0.004767</td>\n",
       "      <td>0.783311</td>\n",
       "      <td>0.181956</td>\n",
       "      <td>0.018860</td>\n",
       "      <td>0.001073</td>\n",
       "      <td>0.000030</td>\n",
       "      <td>0.000174</td>\n",
       "      <td>-0.003736</td>\n",
       "      <td>0.000086</td>\n",
       "    </tr>\n",
       "    <tr>\n",
       "      <th>cc_num</th>\n",
       "      <td>0.000386</td>\n",
       "      <td>1.000000</td>\n",
       "      <td>0.001769</td>\n",
       "      <td>0.041459</td>\n",
       "      <td>-0.059271</td>\n",
       "      <td>-0.048278</td>\n",
       "      <td>-0.008991</td>\n",
       "      <td>0.000354</td>\n",
       "      <td>-0.058942</td>\n",
       "      <td>-0.048252</td>\n",
       "      <td>-0.000981</td>\n",
       "      <td>0.000466</td>\n",
       "      <td>-0.000281</td>\n",
       "      <td>0.000545</td>\n",
       "      <td>-0.000801</td>\n",
       "      <td>0.000812</td>\n",
       "      <td>0.000036</td>\n",
       "      <td>-0.000291</td>\n",
       "      <td>-0.012228</td>\n",
       "    </tr>\n",
       "    <tr>\n",
       "      <th>amt</th>\n",
       "      <td>-0.000251</td>\n",
       "      <td>0.001769</td>\n",
       "      <td>1.000000</td>\n",
       "      <td>0.001843</td>\n",
       "      <td>-0.001926</td>\n",
       "      <td>-0.000187</td>\n",
       "      <td>0.005818</td>\n",
       "      <td>-0.000293</td>\n",
       "      <td>-0.001873</td>\n",
       "      <td>-0.000151</td>\n",
       "      <td>0.219404</td>\n",
       "      <td>0.000842</td>\n",
       "      <td>-0.001748</td>\n",
       "      <td>0.000629</td>\n",
       "      <td>-0.022811</td>\n",
       "      <td>0.000383</td>\n",
       "      <td>0.001405</td>\n",
       "      <td>-0.009748</td>\n",
       "      <td>0.003814</td>\n",
       "    </tr>\n",
       "    <tr>\n",
       "      <th>zip</th>\n",
       "      <td>0.000709</td>\n",
       "      <td>0.041459</td>\n",
       "      <td>0.001843</td>\n",
       "      <td>1.000000</td>\n",
       "      <td>-0.114290</td>\n",
       "      <td>-0.909732</td>\n",
       "      <td>0.078467</td>\n",
       "      <td>0.000670</td>\n",
       "      <td>-0.113561</td>\n",
       "      <td>-0.908924</td>\n",
       "      <td>-0.002162</td>\n",
       "      <td>0.000086</td>\n",
       "      <td>0.000852</td>\n",
       "      <td>-0.000607</td>\n",
       "      <td>0.005938</td>\n",
       "      <td>0.000766</td>\n",
       "      <td>0.000127</td>\n",
       "      <td>0.011004</td>\n",
       "      <td>-0.018631</td>\n",
       "    </tr>\n",
       "    <tr>\n",
       "      <th>lat</th>\n",
       "      <td>0.000602</td>\n",
       "      <td>-0.059271</td>\n",
       "      <td>-0.001926</td>\n",
       "      <td>-0.114290</td>\n",
       "      <td>1.000000</td>\n",
       "      <td>-0.015533</td>\n",
       "      <td>-0.155730</td>\n",
       "      <td>0.000632</td>\n",
       "      <td>0.993592</td>\n",
       "      <td>-0.015509</td>\n",
       "      <td>0.001894</td>\n",
       "      <td>0.001274</td>\n",
       "      <td>-0.001072</td>\n",
       "      <td>-0.000138</td>\n",
       "      <td>-0.011508</td>\n",
       "      <td>-0.000243</td>\n",
       "      <td>-0.000221</td>\n",
       "      <td>0.047845</td>\n",
       "      <td>-0.072439</td>\n",
       "    </tr>\n",
       "    <tr>\n",
       "      <th>long</th>\n",
       "      <td>-0.000676</td>\n",
       "      <td>-0.048278</td>\n",
       "      <td>-0.000187</td>\n",
       "      <td>-0.909732</td>\n",
       "      <td>-0.015533</td>\n",
       "      <td>1.000000</td>\n",
       "      <td>-0.052715</td>\n",
       "      <td>-0.000642</td>\n",
       "      <td>-0.015452</td>\n",
       "      <td>0.999120</td>\n",
       "      <td>0.001721</td>\n",
       "      <td>0.000191</td>\n",
       "      <td>-0.001213</td>\n",
       "      <td>0.000031</td>\n",
       "      <td>-0.002290</td>\n",
       "      <td>-0.000825</td>\n",
       "      <td>0.000325</td>\n",
       "      <td>-0.030231</td>\n",
       "      <td>0.024250</td>\n",
       "    </tr>\n",
       "    <tr>\n",
       "      <th>city_pop</th>\n",
       "      <td>-0.001678</td>\n",
       "      <td>-0.008991</td>\n",
       "      <td>0.005818</td>\n",
       "      <td>0.078467</td>\n",
       "      <td>-0.155730</td>\n",
       "      <td>-0.052715</td>\n",
       "      <td>1.000000</td>\n",
       "      <td>-0.001714</td>\n",
       "      <td>-0.154781</td>\n",
       "      <td>-0.052687</td>\n",
       "      <td>0.002136</td>\n",
       "      <td>-0.001673</td>\n",
       "      <td>0.000137</td>\n",
       "      <td>0.000159</td>\n",
       "      <td>0.020381</td>\n",
       "      <td>-0.000713</td>\n",
       "      <td>0.000690</td>\n",
       "      <td>-0.091271</td>\n",
       "      <td>-0.023934</td>\n",
       "    </tr>\n",
       "    <tr>\n",
       "      <th>unix_time</th>\n",
       "      <td>0.998971</td>\n",
       "      <td>0.000354</td>\n",
       "      <td>-0.000293</td>\n",
       "      <td>0.000670</td>\n",
       "      <td>0.000632</td>\n",
       "      <td>-0.000642</td>\n",
       "      <td>-0.001714</td>\n",
       "      <td>1.000000</td>\n",
       "      <td>0.000561</td>\n",
       "      <td>-0.000635</td>\n",
       "      <td>-0.005078</td>\n",
       "      <td>0.782582</td>\n",
       "      <td>0.184868</td>\n",
       "      <td>0.017162</td>\n",
       "      <td>0.000756</td>\n",
       "      <td>0.000006</td>\n",
       "      <td>0.000191</td>\n",
       "      <td>-0.003655</td>\n",
       "      <td>0.000058</td>\n",
       "    </tr>\n",
       "    <tr>\n",
       "      <th>merch_lat</th>\n",
       "      <td>0.000541</td>\n",
       "      <td>-0.058942</td>\n",
       "      <td>-0.001873</td>\n",
       "      <td>-0.113561</td>\n",
       "      <td>0.993592</td>\n",
       "      <td>-0.015452</td>\n",
       "      <td>-0.154781</td>\n",
       "      <td>0.000561</td>\n",
       "      <td>1.000000</td>\n",
       "      <td>-0.015431</td>\n",
       "      <td>0.001741</td>\n",
       "      <td>0.001244</td>\n",
       "      <td>-0.001116</td>\n",
       "      <td>-0.000276</td>\n",
       "      <td>-0.011378</td>\n",
       "      <td>-0.000217</td>\n",
       "      <td>-0.000281</td>\n",
       "      <td>0.047458</td>\n",
       "      <td>-0.071931</td>\n",
       "    </tr>\n",
       "    <tr>\n",
       "      <th>merch_long</th>\n",
       "      <td>-0.000671</td>\n",
       "      <td>-0.048252</td>\n",
       "      <td>-0.000151</td>\n",
       "      <td>-0.908924</td>\n",
       "      <td>-0.015509</td>\n",
       "      <td>0.999120</td>\n",
       "      <td>-0.052687</td>\n",
       "      <td>-0.000635</td>\n",
       "      <td>-0.015431</td>\n",
       "      <td>1.000000</td>\n",
       "      <td>0.001721</td>\n",
       "      <td>0.000184</td>\n",
       "      <td>-0.001197</td>\n",
       "      <td>0.000076</td>\n",
       "      <td>-0.002325</td>\n",
       "      <td>-0.000820</td>\n",
       "      <td>0.000310</td>\n",
       "      <td>-0.030154</td>\n",
       "      <td>0.024208</td>\n",
       "    </tr>\n",
       "    <tr>\n",
       "      <th>is_fraud</th>\n",
       "      <td>-0.004767</td>\n",
       "      <td>-0.000981</td>\n",
       "      <td>0.219404</td>\n",
       "      <td>-0.002162</td>\n",
       "      <td>0.001894</td>\n",
       "      <td>0.001721</td>\n",
       "      <td>0.002136</td>\n",
       "      <td>-0.005078</td>\n",
       "      <td>0.001741</td>\n",
       "      <td>0.001721</td>\n",
       "      <td>1.000000</td>\n",
       "      <td>0.003004</td>\n",
       "      <td>-0.012409</td>\n",
       "      <td>0.003848</td>\n",
       "      <td>0.013799</td>\n",
       "      <td>0.001033</td>\n",
       "      <td>0.001095</td>\n",
       "      <td>0.012378</td>\n",
       "      <td>0.003177</td>\n",
       "    </tr>\n",
       "    <tr>\n",
       "      <th>year</th>\n",
       "      <td>0.783311</td>\n",
       "      <td>0.000466</td>\n",
       "      <td>0.000842</td>\n",
       "      <td>0.000086</td>\n",
       "      <td>0.001274</td>\n",
       "      <td>0.000191</td>\n",
       "      <td>-0.001673</td>\n",
       "      <td>0.782582</td>\n",
       "      <td>0.001244</td>\n",
       "      <td>0.000184</td>\n",
       "      <td>0.003004</td>\n",
       "      <td>1.000000</td>\n",
       "      <td>-0.464879</td>\n",
       "      <td>-0.045759</td>\n",
       "      <td>-0.000811</td>\n",
       "      <td>-0.000170</td>\n",
       "      <td>0.000048</td>\n",
       "      <td>-0.004414</td>\n",
       "      <td>-0.000838</td>\n",
       "    </tr>\n",
       "    <tr>\n",
       "      <th>month</th>\n",
       "      <td>0.181956</td>\n",
       "      <td>-0.000281</td>\n",
       "      <td>-0.001748</td>\n",
       "      <td>0.000852</td>\n",
       "      <td>-0.001072</td>\n",
       "      <td>-0.001213</td>\n",
       "      <td>0.000137</td>\n",
       "      <td>0.184868</td>\n",
       "      <td>-0.001116</td>\n",
       "      <td>-0.001197</td>\n",
       "      <td>-0.012409</td>\n",
       "      <td>-0.464879</td>\n",
       "      <td>1.000000</td>\n",
       "      <td>0.012434</td>\n",
       "      <td>-0.000356</td>\n",
       "      <td>0.000244</td>\n",
       "      <td>0.000241</td>\n",
       "      <td>0.002213</td>\n",
       "      <td>0.001460</td>\n",
       "    </tr>\n",
       "    <tr>\n",
       "      <th>day</th>\n",
       "      <td>0.018860</td>\n",
       "      <td>0.000545</td>\n",
       "      <td>0.000629</td>\n",
       "      <td>-0.000607</td>\n",
       "      <td>-0.000138</td>\n",
       "      <td>0.000031</td>\n",
       "      <td>0.000159</td>\n",
       "      <td>0.017162</td>\n",
       "      <td>-0.000276</td>\n",
       "      <td>0.000076</td>\n",
       "      <td>0.003848</td>\n",
       "      <td>-0.045759</td>\n",
       "      <td>0.012434</td>\n",
       "      <td>1.000000</td>\n",
       "      <td>-0.000170</td>\n",
       "      <td>-0.000884</td>\n",
       "      <td>-0.000541</td>\n",
       "      <td>0.000570</td>\n",
       "      <td>-0.000165</td>\n",
       "    </tr>\n",
       "    <tr>\n",
       "      <th>hour</th>\n",
       "      <td>0.001073</td>\n",
       "      <td>-0.000801</td>\n",
       "      <td>-0.022811</td>\n",
       "      <td>0.005938</td>\n",
       "      <td>-0.011508</td>\n",
       "      <td>-0.002290</td>\n",
       "      <td>0.020381</td>\n",
       "      <td>0.000756</td>\n",
       "      <td>-0.011378</td>\n",
       "      <td>-0.002325</td>\n",
       "      <td>0.013799</td>\n",
       "      <td>-0.000811</td>\n",
       "      <td>-0.000356</td>\n",
       "      <td>-0.000170</td>\n",
       "      <td>1.000000</td>\n",
       "      <td>-0.000620</td>\n",
       "      <td>-0.000990</td>\n",
       "      <td>-0.172865</td>\n",
       "      <td>-0.012883</td>\n",
       "    </tr>\n",
       "    <tr>\n",
       "      <th>minute</th>\n",
       "      <td>0.000030</td>\n",
       "      <td>0.000812</td>\n",
       "      <td>0.000383</td>\n",
       "      <td>0.000766</td>\n",
       "      <td>-0.000243</td>\n",
       "      <td>-0.000825</td>\n",
       "      <td>-0.000713</td>\n",
       "      <td>0.000006</td>\n",
       "      <td>-0.000217</td>\n",
       "      <td>-0.000820</td>\n",
       "      <td>0.001033</td>\n",
       "      <td>-0.000170</td>\n",
       "      <td>0.000244</td>\n",
       "      <td>-0.000884</td>\n",
       "      <td>-0.000620</td>\n",
       "      <td>1.000000</td>\n",
       "      <td>0.000217</td>\n",
       "      <td>-0.000707</td>\n",
       "      <td>-0.001484</td>\n",
       "    </tr>\n",
       "    <tr>\n",
       "      <th>second</th>\n",
       "      <td>0.000174</td>\n",
       "      <td>0.000036</td>\n",
       "      <td>0.001405</td>\n",
       "      <td>0.000127</td>\n",
       "      <td>-0.000221</td>\n",
       "      <td>0.000325</td>\n",
       "      <td>0.000690</td>\n",
       "      <td>0.000191</td>\n",
       "      <td>-0.000281</td>\n",
       "      <td>0.000310</td>\n",
       "      <td>0.001095</td>\n",
       "      <td>0.000048</td>\n",
       "      <td>0.000241</td>\n",
       "      <td>-0.000541</td>\n",
       "      <td>-0.000990</td>\n",
       "      <td>0.000217</td>\n",
       "      <td>1.000000</td>\n",
       "      <td>0.000787</td>\n",
       "      <td>-0.000509</td>\n",
       "    </tr>\n",
       "    <tr>\n",
       "      <th>age</th>\n",
       "      <td>-0.003736</td>\n",
       "      <td>-0.000291</td>\n",
       "      <td>-0.009748</td>\n",
       "      <td>0.011004</td>\n",
       "      <td>0.047845</td>\n",
       "      <td>-0.030231</td>\n",
       "      <td>-0.091271</td>\n",
       "      <td>-0.003655</td>\n",
       "      <td>0.047458</td>\n",
       "      <td>-0.030154</td>\n",
       "      <td>0.012378</td>\n",
       "      <td>-0.004414</td>\n",
       "      <td>0.002213</td>\n",
       "      <td>0.000570</td>\n",
       "      <td>-0.172865</td>\n",
       "      <td>-0.000707</td>\n",
       "      <td>0.000787</td>\n",
       "      <td>1.000000</td>\n",
       "      <td>0.048068</td>\n",
       "    </tr>\n",
       "    <tr>\n",
       "      <th>street_num</th>\n",
       "      <td>0.000086</td>\n",
       "      <td>-0.012228</td>\n",
       "      <td>0.003814</td>\n",
       "      <td>-0.018631</td>\n",
       "      <td>-0.072439</td>\n",
       "      <td>0.024250</td>\n",
       "      <td>-0.023934</td>\n",
       "      <td>0.000058</td>\n",
       "      <td>-0.071931</td>\n",
       "      <td>0.024208</td>\n",
       "      <td>0.003177</td>\n",
       "      <td>-0.000838</td>\n",
       "      <td>0.001460</td>\n",
       "      <td>-0.000165</td>\n",
       "      <td>-0.012883</td>\n",
       "      <td>-0.001484</td>\n",
       "      <td>-0.000509</td>\n",
       "      <td>0.048068</td>\n",
       "      <td>1.000000</td>\n",
       "    </tr>\n",
       "  </tbody>\n",
       "</table>\n",
       "</div>"
      ],
      "text/plain": [
       "            Unnamed: 0    cc_num       amt       zip       lat      long  \\\n",
       "Unnamed: 0    1.000000  0.000386 -0.000251  0.000709  0.000602 -0.000676   \n",
       "cc_num        0.000386  1.000000  0.001769  0.041459 -0.059271 -0.048278   \n",
       "amt          -0.000251  0.001769  1.000000  0.001843 -0.001926 -0.000187   \n",
       "zip           0.000709  0.041459  0.001843  1.000000 -0.114290 -0.909732   \n",
       "lat           0.000602 -0.059271 -0.001926 -0.114290  1.000000 -0.015533   \n",
       "long         -0.000676 -0.048278 -0.000187 -0.909732 -0.015533  1.000000   \n",
       "city_pop     -0.001678 -0.008991  0.005818  0.078467 -0.155730 -0.052715   \n",
       "unix_time     0.998971  0.000354 -0.000293  0.000670  0.000632 -0.000642   \n",
       "merch_lat     0.000541 -0.058942 -0.001873 -0.113561  0.993592 -0.015452   \n",
       "merch_long   -0.000671 -0.048252 -0.000151 -0.908924 -0.015509  0.999120   \n",
       "is_fraud     -0.004767 -0.000981  0.219404 -0.002162  0.001894  0.001721   \n",
       "year          0.783311  0.000466  0.000842  0.000086  0.001274  0.000191   \n",
       "month         0.181956 -0.000281 -0.001748  0.000852 -0.001072 -0.001213   \n",
       "day           0.018860  0.000545  0.000629 -0.000607 -0.000138  0.000031   \n",
       "hour          0.001073 -0.000801 -0.022811  0.005938 -0.011508 -0.002290   \n",
       "minute        0.000030  0.000812  0.000383  0.000766 -0.000243 -0.000825   \n",
       "second        0.000174  0.000036  0.001405  0.000127 -0.000221  0.000325   \n",
       "age          -0.003736 -0.000291 -0.009748  0.011004  0.047845 -0.030231   \n",
       "street_num    0.000086 -0.012228  0.003814 -0.018631 -0.072439  0.024250   \n",
       "\n",
       "            city_pop  unix_time  merch_lat  merch_long  is_fraud      year  \\\n",
       "Unnamed: 0 -0.001678   0.998971   0.000541   -0.000671 -0.004767  0.783311   \n",
       "cc_num     -0.008991   0.000354  -0.058942   -0.048252 -0.000981  0.000466   \n",
       "amt         0.005818  -0.000293  -0.001873   -0.000151  0.219404  0.000842   \n",
       "zip         0.078467   0.000670  -0.113561   -0.908924 -0.002162  0.000086   \n",
       "lat        -0.155730   0.000632   0.993592   -0.015509  0.001894  0.001274   \n",
       "long       -0.052715  -0.000642  -0.015452    0.999120  0.001721  0.000191   \n",
       "city_pop    1.000000  -0.001714  -0.154781   -0.052687  0.002136 -0.001673   \n",
       "unix_time  -0.001714   1.000000   0.000561   -0.000635 -0.005078  0.782582   \n",
       "merch_lat  -0.154781   0.000561   1.000000   -0.015431  0.001741  0.001244   \n",
       "merch_long -0.052687  -0.000635  -0.015431    1.000000  0.001721  0.000184   \n",
       "is_fraud    0.002136  -0.005078   0.001741    0.001721  1.000000  0.003004   \n",
       "year       -0.001673   0.782582   0.001244    0.000184  0.003004  1.000000   \n",
       "month       0.000137   0.184868  -0.001116   -0.001197 -0.012409 -0.464879   \n",
       "day         0.000159   0.017162  -0.000276    0.000076  0.003848 -0.045759   \n",
       "hour        0.020381   0.000756  -0.011378   -0.002325  0.013799 -0.000811   \n",
       "minute     -0.000713   0.000006  -0.000217   -0.000820  0.001033 -0.000170   \n",
       "second      0.000690   0.000191  -0.000281    0.000310  0.001095  0.000048   \n",
       "age        -0.091271  -0.003655   0.047458   -0.030154  0.012378 -0.004414   \n",
       "street_num -0.023934   0.000058  -0.071931    0.024208  0.003177 -0.000838   \n",
       "\n",
       "               month       day      hour    minute    second       age  \\\n",
       "Unnamed: 0  0.181956  0.018860  0.001073  0.000030  0.000174 -0.003736   \n",
       "cc_num     -0.000281  0.000545 -0.000801  0.000812  0.000036 -0.000291   \n",
       "amt        -0.001748  0.000629 -0.022811  0.000383  0.001405 -0.009748   \n",
       "zip         0.000852 -0.000607  0.005938  0.000766  0.000127  0.011004   \n",
       "lat        -0.001072 -0.000138 -0.011508 -0.000243 -0.000221  0.047845   \n",
       "long       -0.001213  0.000031 -0.002290 -0.000825  0.000325 -0.030231   \n",
       "city_pop    0.000137  0.000159  0.020381 -0.000713  0.000690 -0.091271   \n",
       "unix_time   0.184868  0.017162  0.000756  0.000006  0.000191 -0.003655   \n",
       "merch_lat  -0.001116 -0.000276 -0.011378 -0.000217 -0.000281  0.047458   \n",
       "merch_long -0.001197  0.000076 -0.002325 -0.000820  0.000310 -0.030154   \n",
       "is_fraud   -0.012409  0.003848  0.013799  0.001033  0.001095  0.012378   \n",
       "year       -0.464879 -0.045759 -0.000811 -0.000170  0.000048 -0.004414   \n",
       "month       1.000000  0.012434 -0.000356  0.000244  0.000241  0.002213   \n",
       "day         0.012434  1.000000 -0.000170 -0.000884 -0.000541  0.000570   \n",
       "hour       -0.000356 -0.000170  1.000000 -0.000620 -0.000990 -0.172865   \n",
       "minute      0.000244 -0.000884 -0.000620  1.000000  0.000217 -0.000707   \n",
       "second      0.000241 -0.000541 -0.000990  0.000217  1.000000  0.000787   \n",
       "age         0.002213  0.000570 -0.172865 -0.000707  0.000787  1.000000   \n",
       "street_num  0.001460 -0.000165 -0.012883 -0.001484 -0.000509  0.048068   \n",
       "\n",
       "            street_num  \n",
       "Unnamed: 0    0.000086  \n",
       "cc_num       -0.012228  \n",
       "amt           0.003814  \n",
       "zip          -0.018631  \n",
       "lat          -0.072439  \n",
       "long          0.024250  \n",
       "city_pop     -0.023934  \n",
       "unix_time     0.000058  \n",
       "merch_lat    -0.071931  \n",
       "merch_long    0.024208  \n",
       "is_fraud      0.003177  \n",
       "year         -0.000838  \n",
       "month         0.001460  \n",
       "day          -0.000165  \n",
       "hour         -0.012883  \n",
       "minute       -0.001484  \n",
       "second       -0.000509  \n",
       "age           0.048068  \n",
       "street_num    1.000000  "
      ]
     },
     "execution_count": 20,
     "metadata": {},
     "output_type": "execute_result"
    }
   ],
   "source": [
    "credit_dataset.corr()"
   ]
  },
  {
   "cell_type": "code",
   "execution_count": 21,
   "id": "4e34d732",
   "metadata": {},
   "outputs": [],
   "source": [
    "credit_dataset=credit_dataset.drop(['Unnamed: 0','cc_num','unix_time','street','city','job','zip','merchant','trans_date_trans_time','dob','first','last','trans_num','street_num'], axis=1)"
   ]
  },
  {
   "cell_type": "markdown",
   "id": "fe625bc3",
   "metadata": {},
   "source": [
    "# Treating Outliers"
   ]
  },
  {
   "cell_type": "code",
   "execution_count": 22,
   "id": "3470392b",
   "metadata": {},
   "outputs": [
    {
     "data": {
      "text/plain": [
       "count    1.296675e+06\n",
       "mean     7.035104e+01\n",
       "std      1.603160e+02\n",
       "min      1.000000e+00\n",
       "25%      9.650000e+00\n",
       "50%      4.752000e+01\n",
       "75%      8.314000e+01\n",
       "max      2.894890e+04\n",
       "Name: amt, dtype: float64"
      ]
     },
     "execution_count": 22,
     "metadata": {},
     "output_type": "execute_result"
    }
   ],
   "source": [
    "credit_dataset.amt.describe()"
   ]
  },
  {
   "cell_type": "code",
   "execution_count": 23,
   "id": "22d3fd31",
   "metadata": {},
   "outputs": [
    {
     "data": {
      "text/plain": [
       "(-100.58499999999998, 193.375)"
      ]
     },
     "execution_count": 23,
     "metadata": {},
     "output_type": "execute_result"
    }
   ],
   "source": [
    "Q1=credit_dataset.amt.quantile(0.25)\n",
    "Q3=credit_dataset.amt.quantile(0.75)\n",
    "Q1,Q3\n",
    "IQR=Q3-Q1\n",
    "IQR\n",
    "lower_limit=Q1-1.5*IQR\n",
    "upper_limit=Q3+1.5*IQR\n",
    "lower_limit,upper_limit"
   ]
  },
  {
   "cell_type": "code",
   "execution_count": 24,
   "id": "a2cbb656",
   "metadata": {},
   "outputs": [],
   "source": [
    "credit_dataset=credit_dataset[(credit_dataset['amt']>=-100) & (credit_dataset['amt']<=194)]"
   ]
  },
  {
   "cell_type": "code",
   "execution_count": 25,
   "id": "57f91968",
   "metadata": {},
   "outputs": [
    {
     "data": {
      "text/plain": [
       "(-1.5, 98.5)"
      ]
     },
     "execution_count": 25,
     "metadata": {},
     "output_type": "execute_result"
    }
   ],
   "source": [
    "Q1=credit_dataset.age.quantile(0.25)\n",
    "Q3=credit_dataset.age.quantile(0.75)\n",
    "Q1,Q3\n",
    "IQR=Q3-Q1\n",
    "IQR\n",
    "lower_limit=Q1-1.5*IQR\n",
    "upper_limit=Q3+1.5*IQR\n",
    "lower_limit,upper_limit"
   ]
  },
  {
   "cell_type": "code",
   "execution_count": 26,
   "id": "133efd4f",
   "metadata": {},
   "outputs": [],
   "source": [
    "credit_dataset=credit_dataset[(credit_dataset['age']>=0) & (credit_dataset['age']<=98)]"
   ]
  },
  {
   "cell_type": "code",
   "execution_count": 27,
   "id": "fb0c2ee1",
   "metadata": {},
   "outputs": [
    {
     "data": {
      "text/plain": [
       "(23.802299999999995, 52.8367)"
      ]
     },
     "execution_count": 27,
     "metadata": {},
     "output_type": "execute_result"
    }
   ],
   "source": [
    "Q1=credit_dataset.lat.quantile(0.25)\n",
    "Q3=credit_dataset.lat.quantile(0.75)\n",
    "Q1,Q3\n",
    "IQR=Q3-Q1\n",
    "IQR\n",
    "lower_limit=Q1-1.5*IQR\n",
    "upper_limit=Q3+1.5*IQR\n",
    "lower_limit,upper_limit"
   ]
  },
  {
   "cell_type": "code",
   "execution_count": 28,
   "id": "213c58d3",
   "metadata": {},
   "outputs": [],
   "source": [
    "credit_dataset=credit_dataset[(credit_dataset['lat']>=26) & (credit_dataset['lat']<=53)]"
   ]
  },
  {
   "cell_type": "code",
   "execution_count": 29,
   "id": "365df437",
   "metadata": {},
   "outputs": [
    {
     "data": {
      "text/plain": [
       "(-121.77465000000001, -55.140649999999994)"
      ]
     },
     "execution_count": 29,
     "metadata": {},
     "output_type": "execute_result"
    }
   ],
   "source": [
    "Q1=credit_dataset.long.quantile(0.25)\n",
    "Q3=credit_dataset.long.quantile(0.75)\n",
    "Q1,Q3\n",
    "IQR=Q3-Q1\n",
    "IQR\n",
    "lower_limit=Q1-1.5*IQR\n",
    "upper_limit=Q3+1.5*IQR\n",
    "lower_limit,upper_limit"
   ]
  },
  {
   "cell_type": "code",
   "execution_count": 30,
   "id": "d6b976df",
   "metadata": {},
   "outputs": [],
   "source": [
    "credit_dataset=credit_dataset[(credit_dataset['long']>=-119) & (credit_dataset['long']<=-55)]"
   ]
  },
  {
   "cell_type": "code",
   "execution_count": 31,
   "id": "0868c93d",
   "metadata": {},
   "outputs": [
    {
     "data": {
      "text/plain": [
       "(-26282.5, 45785.5)"
      ]
     },
     "execution_count": 31,
     "metadata": {},
     "output_type": "execute_result"
    }
   ],
   "source": [
    "Q1=credit_dataset.city_pop.quantile(0.25)\n",
    "Q3=credit_dataset.city_pop.quantile(0.75)\n",
    "Q1,Q3\n",
    "IQR=Q3-Q1\n",
    "IQR\n",
    "lower_limit=Q1-1.5*IQR\n",
    "upper_limit=Q3+1.5*IQR\n",
    "lower_limit,upper_limit"
   ]
  },
  {
   "cell_type": "code",
   "execution_count": 32,
   "id": "5431c4b0",
   "metadata": {},
   "outputs": [],
   "source": [
    "credit_dataset=credit_dataset[(credit_dataset['city_pop']>=0) & (credit_dataset['city_pop']<=4000)]"
   ]
  },
  {
   "cell_type": "markdown",
   "id": "80270fd9",
   "metadata": {},
   "source": [
    "# EDA"
   ]
  },
  {
   "cell_type": "markdown",
   "id": "f96115cb",
   "metadata": {},
   "source": [
    "# Transaction Amount"
   ]
  },
  {
   "cell_type": "code",
   "execution_count": 33,
   "id": "c9d8aa6b",
   "metadata": {},
   "outputs": [
    {
     "data": {
      "text/plain": [
       "<AxesSubplot:xlabel='amt', ylabel='Count'>"
      ]
     },
     "execution_count": 33,
     "metadata": {},
     "output_type": "execute_result"
    },
    {
     "data": {
      "image/png": "[encoded data removed]",
      "text/plain": [
       "<Figure size 640x480 with 1 Axes>"
      ]
     },
     "metadata": {},
     "output_type": "display_data"
    }
   ],
   "source": [
    "sns.histplot(credit_dataset.amt)"
   ]
  },
  {
   "cell_type": "markdown",
   "id": "8804957b",
   "metadata": {},
   "source": [
    "# Credit Card Holder Age"
   ]
  },
  {
   "cell_type": "code",
   "execution_count": 34,
   "id": "ee9ec762",
   "metadata": {},
   "outputs": [
    {
     "data": {
      "text/plain": [
       "<AxesSubplot:xlabel='age', ylabel='Density'>"
      ]
     },
     "execution_count": 34,
     "metadata": {},
     "output_type": "execute_result"
    },
    {
     "data": {
      "image/png": "[encoded data removed]",
      "text/plain": [
       "<Figure size 640x480 with 1 Axes>"
      ]
     },
     "metadata": {},
     "output_type": "display_data"
    }
   ],
   "source": [
    "sns.distplot(credit_dataset.age)"
   ]
  },
  {
   "cell_type": "markdown",
   "id": "ca2ad65c",
   "metadata": {},
   "source": [
    "# Month Vs Fraud"
   ]
  },
  {
   "cell_type": "code",
   "execution_count": 35,
   "id": "fa5708b1",
   "metadata": {},
   "outputs": [
    {
     "data": {
      "image/png": "[encoded data removed]",
      "text/plain": [
       "<Figure size 640x480 with 1 Axes>"
      ]
     },
     "metadata": {},
     "output_type": "display_data"
    }
   ],
   "source": [
    "ax=sns.histplot(data=credit_dataset, x=\"month\", hue=\"is_fraud\", common_norm=False,stat='percent',multiple='dodge')\n",
    "ax.set_ylabel('Percentage')\n",
    "ax.set_xlabel('Month')\n",
    "plt.xticks(np.arange(1,13,1))\n",
    "ax.set_xticklabels([\"Jan\",\"Feb\",\"Mar\",\"Apr\",\"May\",\"Jun\",\"Jul\",'Aug','Sep','Oct','Nov','Dec'])\n",
    "plt.legend(title='Type', labels=['Fraud', 'Not Fraud'])\n",
    "plt.xticks(rotation=90)\n",
    "plt.show()"
   ]
  },
  {
   "cell_type": "markdown",
   "id": "d5b3bb21",
   "metadata": {},
   "source": [
    "# Category Vs Fraud"
   ]
  },
  {
   "cell_type": "code",
   "execution_count": 36,
   "id": "cb9e5774",
   "metadata": {},
   "outputs": [
    {
     "data": {
      "image/png": "[encoded data removed]",
      "text/plain": [
       "<Figure size 640x480 with 1 Axes>"
      ]
     },
     "metadata": {},
     "output_type": "display_data"
    }
   ],
   "source": [
    "ax=sns.histplot(data=credit_dataset, x=\"category\", hue=\"is_fraud\", stat='percent', multiple='dodge', common_norm=False)\n",
    "ax.set_ylabel('Percentage')\n",
    "ax.set_xlabel('category')\n",
    "plt.xticks(np.arange(1,14,1))\n",
    "plt.legend(title='Type', labels=['Fraud', 'Not Fraud'])\n",
    "plt.xticks(rotation=90)\n",
    "plt.show()\n"
   ]
  },
  {
   "cell_type": "markdown",
   "id": "5786ba49",
   "metadata": {},
   "source": [
    "# MODEL SELECTION"
   ]
  },
  {
   "cell_type": "markdown",
   "id": "4113d92d",
   "metadata": {},
   "source": [
    "# Logistic Regression"
   ]
  },
  {
   "cell_type": "markdown",
   "id": "bb598ca0",
   "metadata": {},
   "source": [
    "One Hot Encoding"
   ]
  },
  {
   "cell_type": "code",
   "execution_count": 37,
   "id": "7f85fc22",
   "metadata": {},
   "outputs": [],
   "source": [
    "credit_dataset[\"gender\"]=pd.get_dummies(credit_dataset[\"gender\"],drop_first=True)"
   ]
  },
  {
   "cell_type": "markdown",
   "id": "ca0f6efd",
   "metadata": {},
   "source": [
    "Label Encoding"
   ]
  },
  {
   "cell_type": "code",
   "execution_count": 38,
   "id": "d821b57f",
   "metadata": {},
   "outputs": [],
   "source": [
    "from sklearn.preprocessing import LabelEncoder"
   ]
  },
  {
   "cell_type": "code",
   "execution_count": 39,
   "id": "a7889c6f",
   "metadata": {},
   "outputs": [],
   "source": [
    "le=LabelEncoder()"
   ]
  },
  {
   "cell_type": "code",
   "execution_count": 40,
   "id": "2d041250",
   "metadata": {},
   "outputs": [],
   "source": [
    "for i in credit_dataset.select_dtypes(include='object'):\n",
    "    credit_dataset[i]=le.fit_transform(credit_dataset[i])"
   ]
  },
  {
   "cell_type": "code",
   "execution_count": 41,
   "id": "911b99de",
   "metadata": {},
   "outputs": [
    {
     "data": {
      "text/html": [
       "<div>\n",
       "<style scoped>\n",
       "    .dataframe tbody tr th:only-of-type {\n",
       "        vertical-align: middle;\n",
       "    }\n",
       "\n",
       "    .dataframe tbody tr th {\n",
       "        vertical-align: top;\n",
       "    }\n",
       "\n",
       "    .dataframe thead th {\n",
       "        text-align: right;\n",
       "    }\n",
       "</style>\n",
       "<table border=\"1\" class=\"dataframe\">\n",
       "  <thead>\n",
       "    <tr style=\"text-align: right;\">\n",
       "      <th></th>\n",
       "      <th>category</th>\n",
       "      <th>amt</th>\n",
       "      <th>gender</th>\n",
       "      <th>state</th>\n",
       "      <th>lat</th>\n",
       "      <th>long</th>\n",
       "      <th>city_pop</th>\n",
       "      <th>merch_lat</th>\n",
       "      <th>merch_long</th>\n",
       "      <th>is_fraud</th>\n",
       "      <th>year</th>\n",
       "      <th>month</th>\n",
       "      <th>day</th>\n",
       "      <th>hour</th>\n",
       "      <th>minute</th>\n",
       "      <th>second</th>\n",
       "      <th>age</th>\n",
       "    </tr>\n",
       "  </thead>\n",
       "  <tbody>\n",
       "    <tr>\n",
       "      <th>0</th>\n",
       "      <td>8</td>\n",
       "      <td>4.97</td>\n",
       "      <td>0</td>\n",
       "      <td>23</td>\n",
       "      <td>36.0788</td>\n",
       "      <td>-81.1781</td>\n",
       "      <td>3495</td>\n",
       "      <td>36.011293</td>\n",
       "      <td>-82.048315</td>\n",
       "      <td>0</td>\n",
       "      <td>2019</td>\n",
       "      <td>1</td>\n",
       "      <td>1</td>\n",
       "      <td>0</td>\n",
       "      <td>0</td>\n",
       "      <td>18</td>\n",
       "      <td>35</td>\n",
       "    </tr>\n",
       "    <tr>\n",
       "      <th>1</th>\n",
       "      <td>4</td>\n",
       "      <td>107.23</td>\n",
       "      <td>0</td>\n",
       "      <td>42</td>\n",
       "      <td>48.8878</td>\n",
       "      <td>-118.2105</td>\n",
       "      <td>149</td>\n",
       "      <td>49.159047</td>\n",
       "      <td>-118.186462</td>\n",
       "      <td>0</td>\n",
       "      <td>2019</td>\n",
       "      <td>1</td>\n",
       "      <td>1</td>\n",
       "      <td>0</td>\n",
       "      <td>0</td>\n",
       "      <td>44</td>\n",
       "      <td>45</td>\n",
       "    </tr>\n",
       "    <tr>\n",
       "      <th>3</th>\n",
       "      <td>2</td>\n",
       "      <td>45.00</td>\n",
       "      <td>1</td>\n",
       "      <td>22</td>\n",
       "      <td>46.2306</td>\n",
       "      <td>-112.1138</td>\n",
       "      <td>1939</td>\n",
       "      <td>47.034331</td>\n",
       "      <td>-112.561071</td>\n",
       "      <td>0</td>\n",
       "      <td>2019</td>\n",
       "      <td>1</td>\n",
       "      <td>1</td>\n",
       "      <td>0</td>\n",
       "      <td>1</td>\n",
       "      <td>16</td>\n",
       "      <td>56</td>\n",
       "    </tr>\n",
       "    <tr>\n",
       "      <th>4</th>\n",
       "      <td>9</td>\n",
       "      <td>41.96</td>\n",
       "      <td>1</td>\n",
       "      <td>40</td>\n",
       "      <td>38.4207</td>\n",
       "      <td>-79.4629</td>\n",
       "      <td>99</td>\n",
       "      <td>38.674999</td>\n",
       "      <td>-78.632459</td>\n",
       "      <td>0</td>\n",
       "      <td>2019</td>\n",
       "      <td>1</td>\n",
       "      <td>1</td>\n",
       "      <td>0</td>\n",
       "      <td>3</td>\n",
       "      <td>6</td>\n",
       "      <td>37</td>\n",
       "    </tr>\n",
       "    <tr>\n",
       "      <th>5</th>\n",
       "      <td>2</td>\n",
       "      <td>94.63</td>\n",
       "      <td>0</td>\n",
       "      <td>34</td>\n",
       "      <td>40.3750</td>\n",
       "      <td>-75.2045</td>\n",
       "      <td>2158</td>\n",
       "      <td>40.653382</td>\n",
       "      <td>-76.152667</td>\n",
       "      <td>0</td>\n",
       "      <td>2019</td>\n",
       "      <td>1</td>\n",
       "      <td>1</td>\n",
       "      <td>0</td>\n",
       "      <td>4</td>\n",
       "      <td>8</td>\n",
       "      <td>62</td>\n",
       "    </tr>\n",
       "  </tbody>\n",
       "</table>\n",
       "</div>"
      ],
      "text/plain": [
       "   category     amt  gender  state      lat      long  city_pop  merch_lat  \\\n",
       "0         8    4.97       0     23  36.0788  -81.1781      3495  36.011293   \n",
       "1         4  107.23       0     42  48.8878 -118.2105       149  49.159047   \n",
       "3         2   45.00       1     22  46.2306 -112.1138      1939  47.034331   \n",
       "4         9   41.96       1     40  38.4207  -79.4629        99  38.674999   \n",
       "5         2   94.63       0     34  40.3750  -75.2045      2158  40.653382   \n",
       "\n",
       "   merch_long  is_fraud  year  month  day  hour  minute  second  age  \n",
       "0  -82.048315         0  2019      1    1     0       0      18   35  \n",
       "1 -118.186462         0  2019      1    1     0       0      44   45  \n",
       "3 -112.561071         0  2019      1    1     0       1      16   56  \n",
       "4  -78.632459         0  2019      1    1     0       3       6   37  \n",
       "5  -76.152667         0  2019      1    1     0       4       8   62  "
      ]
     },
     "execution_count": 41,
     "metadata": {},
     "output_type": "execute_result"
    }
   ],
   "source": [
    "credit_dataset.head()"
   ]
  },
  {
   "cell_type": "code",
   "execution_count": 42,
   "id": "326f2ad3",
   "metadata": {},
   "outputs": [],
   "source": [
    "from sklearn.preprocessing import StandardScaler"
   ]
  },
  {
   "cell_type": "code",
   "execution_count": 43,
   "id": "ed077cbd",
   "metadata": {},
   "outputs": [],
   "source": [
    "scaler=StandardScaler()"
   ]
  },
  {
   "cell_type": "code",
   "execution_count": 44,
   "id": "92aab877",
   "metadata": {},
   "outputs": [
    {
     "data": {
      "text/html": [
       "<style>#sk-container-id-1 {color: black;background-color: white;}#sk-container-id-1 pre{padding: 0;}#sk-container-id-1 div.sk-toggleable {background-color: white;}#sk-container-id-1 label.sk-toggleable__label {cursor: pointer;display: block;width: 100%;margin-bottom: 0;padding: 0.3em;box-sizing: border-box;text-align: center;}#sk-container-id-1 label.sk-toggleable__label-arrow:before {content: \"▸\";float: left;margin-right: 0.25em;color: #696969;}#sk-container-id-1 label.sk-toggleable__label-arrow:hover:before {color: black;}#sk-container-id-1 div.sk-estimator:hover label.sk-toggleable__label-arrow:before {color: black;}#sk-container-id-1 div.sk-toggleable__content {max-height: 0;max-width: 0;overflow: hidden;text-align: left;background-color: #f0f8ff;}#sk-container-id-1 div.sk-toggleable__content pre {margin: 0.2em;color: black;border-radius: 0.25em;background-color: #f0f8ff;}#sk-container-id-1 input.sk-toggleable__control:checked~div.sk-toggleable__content {max-height: 200px;max-width: 100%;overflow: auto;}#sk-container-id-1 input.sk-toggleable__control:checked~label.sk-toggleable__label-arrow:before {content: \"▾\";}#sk-container-id-1 div.sk-estimator input.sk-toggleable__control:checked~label.sk-toggleable__label {background-color: #d4ebff;}#sk-container-id-1 div.sk-label input.sk-toggleable__control:checked~label.sk-toggleable__label {background-color: #d4ebff;}#sk-container-id-1 input.sk-hidden--visually {border: 0;clip: rect(1px 1px 1px 1px);clip: rect(1px, 1px, 1px, 1px);height: 1px;margin: -1px;overflow: hidden;padding: 0;position: absolute;width: 1px;}#sk-container-id-1 div.sk-estimator {font-family: monospace;background-color: #f0f8ff;border: 1px dotted black;border-radius: 0.25em;box-sizing: border-box;margin-bottom: 0.5em;}#sk-container-id-1 div.sk-estimator:hover {background-color: #d4ebff;}#sk-container-id-1 div.sk-parallel-item::after {content: \"\";width: 100%;border-bottom: 1px solid gray;flex-grow: 1;}#sk-container-id-1 div.sk-label:hover label.sk-toggleable__label {background-color: #d4ebff;}#sk-container-id-1 div.sk-serial::before {content: \"\";position: absolute;border-left: 1px solid gray;box-sizing: border-box;top: 0;bottom: 0;left: 50%;z-index: 0;}#sk-container-id-1 div.sk-serial {display: flex;flex-direction: column;align-items: center;background-color: white;padding-right: 0.2em;padding-left: 0.2em;position: relative;}#sk-container-id-1 div.sk-item {position: relative;z-index: 1;}#sk-container-id-1 div.sk-parallel {display: flex;align-items: stretch;justify-content: center;background-color: white;position: relative;}#sk-container-id-1 div.sk-item::before, #sk-container-id-1 div.sk-parallel-item::before {content: \"\";position: absolute;border-left: 1px solid gray;box-sizing: border-box;top: 0;bottom: 0;left: 50%;z-index: -1;}#sk-container-id-1 div.sk-parallel-item {display: flex;flex-direction: column;z-index: 1;position: relative;background-color: white;}#sk-container-id-1 div.sk-parallel-item:first-child::after {align-self: flex-end;width: 50%;}#sk-container-id-1 div.sk-parallel-item:last-child::after {align-self: flex-start;width: 50%;}#sk-container-id-1 div.sk-parallel-item:only-child::after {width: 0;}#sk-container-id-1 div.sk-dashed-wrapped {border: 1px dashed gray;margin: 0 0.4em 0.5em 0.4em;box-sizing: border-box;padding-bottom: 0.4em;background-color: white;}#sk-container-id-1 div.sk-label label {font-family: monospace;font-weight: bold;display: inline-block;line-height: 1.2em;}#sk-container-id-1 div.sk-label-container {text-align: center;}#sk-container-id-1 div.sk-container {/* jupyter's `normalize.less` sets `[hidden] { display: none; }` but bootstrap.min.css set `[hidden] { display: none !important; }` so we also need the `!important` here to be able to override the default hidden behavior on the sphinx rendered scikit-learn.org. See: https://github.com/scikit-learn/scikit-learn/issues/21755 */display: inline-block !important;position: relative;}#sk-container-id-1 div.sk-text-repr-fallback {display: none;}</style><div id=\"sk-container-id-1\" class=\"sk-top-container\"><div class=\"sk-text-repr-fallback\"><pre>StandardScaler()</pre><b>In a Jupyter environment, please rerun this cell to show the HTML representation or trust the notebook. <br />On GitHub, the HTML representation is unable to render, please try loading this page with nbviewer.org.</b></div><div class=\"sk-container\" hidden><div class=\"sk-item\"><div class=\"sk-estimator sk-toggleable\"><input class=\"sk-toggleable__control sk-hidden--visually\" id=\"sk-estimator-id-1\" type=\"checkbox\" checked><label for=\"sk-estimator-id-1\" class=\"sk-toggleable__label sk-toggleable__label-arrow\">StandardScaler</label><div class=\"sk-toggleable__content\"><pre>StandardScaler()</pre></div></div></div></div></div>"
      ],
      "text/plain": [
       "StandardScaler()"
      ]
     },
     "execution_count": 44,
     "metadata": {},
     "output_type": "execute_result"
    }
   ],
   "source": [
    "scaler.fit(credit_dataset.drop(columns=['is_fraud']))"
   ]
  },
  {
   "cell_type": "code",
   "execution_count": 45,
   "id": "43bf39a0",
   "metadata": {},
   "outputs": [],
   "source": [
    "scaled_features=scaler.transform(credit_dataset.drop(columns=['is_fraud'],axis=1))"
   ]
  },
  {
   "cell_type": "code",
   "execution_count": 46,
   "id": "cd3c16c9",
   "metadata": {},
   "outputs": [],
   "source": [
    "x=credit_dataset.drop(['is_fraud'],axis=1)\n",
    "y=credit_dataset.is_fraud"
   ]
  },
  {
   "cell_type": "code",
   "execution_count": 47,
   "id": "1ca89c38",
   "metadata": {},
   "outputs": [],
   "source": [
    "df=pd.DataFrame(scaled_features,columns=x.columns)"
   ]
  },
  {
   "cell_type": "code",
   "execution_count": 48,
   "id": "aaa54393",
   "metadata": {},
   "outputs": [
    {
     "data": {
      "text/html": [
       "<div>\n",
       "<style scoped>\n",
       "    .dataframe tbody tr th:only-of-type {\n",
       "        vertical-align: middle;\n",
       "    }\n",
       "\n",
       "    .dataframe tbody tr th {\n",
       "        vertical-align: top;\n",
       "    }\n",
       "\n",
       "    .dataframe thead th {\n",
       "        text-align: right;\n",
       "    }\n",
       "</style>\n",
       "<table border=\"1\" class=\"dataframe\">\n",
       "  <thead>\n",
       "    <tr style=\"text-align: right;\">\n",
       "      <th></th>\n",
       "      <th>category</th>\n",
       "      <th>amt</th>\n",
       "      <th>gender</th>\n",
       "      <th>state</th>\n",
       "      <th>lat</th>\n",
       "      <th>long</th>\n",
       "      <th>city_pop</th>\n",
       "      <th>merch_lat</th>\n",
       "      <th>merch_long</th>\n",
       "      <th>year</th>\n",
       "      <th>month</th>\n",
       "      <th>day</th>\n",
       "      <th>hour</th>\n",
       "      <th>minute</th>\n",
       "      <th>second</th>\n",
       "      <th>age</th>\n",
       "    </tr>\n",
       "  </thead>\n",
       "  <tbody>\n",
       "    <tr>\n",
       "      <th>0</th>\n",
       "      <td>0.508198</td>\n",
       "      <td>-1.088001</td>\n",
       "      <td>-0.890923</td>\n",
       "      <td>-0.091313</td>\n",
       "      <td>-0.753457</td>\n",
       "      <td>0.694205</td>\n",
       "      <td>2.320458</td>\n",
       "      <td>-0.762158</td>\n",
       "      <td>0.614762</td>\n",
       "      <td>-0.635712</td>\n",
       "      <td>-1.504301</td>\n",
       "      <td>-1.650350</td>\n",
       "      <td>-1.848461</td>\n",
       "      <td>-1.700339</td>\n",
       "      <td>-0.664585</td>\n",
       "      <td>-0.930264</td>\n",
       "    </tr>\n",
       "    <tr>\n",
       "      <th>1</th>\n",
       "      <td>-0.526737</td>\n",
       "      <td>1.269302</td>\n",
       "      <td>-0.890923</td>\n",
       "      <td>1.431579</td>\n",
       "      <td>2.112780</td>\n",
       "      <td>-2.654916</td>\n",
       "      <td>-1.070493</td>\n",
       "      <td>2.155286</td>\n",
       "      <td>-2.648962</td>\n",
       "      <td>-0.635712</td>\n",
       "      <td>-1.504301</td>\n",
       "      <td>-1.650350</td>\n",
       "      <td>-1.848461</td>\n",
       "      <td>-1.700339</td>\n",
       "      <td>0.837718</td>\n",
       "      <td>-0.359031</td>\n",
       "    </tr>\n",
       "    <tr>\n",
       "      <th>2</th>\n",
       "      <td>-1.044205</td>\n",
       "      <td>-0.165228</td>\n",
       "      <td>1.122431</td>\n",
       "      <td>-0.171466</td>\n",
       "      <td>1.518185</td>\n",
       "      <td>-2.103545</td>\n",
       "      <td>0.743555</td>\n",
       "      <td>1.683819</td>\n",
       "      <td>-2.140919</td>\n",
       "      <td>-0.635712</td>\n",
       "      <td>-1.504301</td>\n",
       "      <td>-1.650350</td>\n",
       "      <td>-1.848461</td>\n",
       "      <td>-1.642644</td>\n",
       "      <td>-0.780147</td>\n",
       "      <td>0.269325</td>\n",
       "    </tr>\n",
       "    <tr>\n",
       "      <th>3</th>\n",
       "      <td>0.766932</td>\n",
       "      <td>-0.235306</td>\n",
       "      <td>1.122431</td>\n",
       "      <td>1.271274</td>\n",
       "      <td>-0.229416</td>\n",
       "      <td>0.849324</td>\n",
       "      <td>-1.121165</td>\n",
       "      <td>-0.171090</td>\n",
       "      <td>0.923257</td>\n",
       "      <td>-0.635712</td>\n",
       "      <td>-1.504301</td>\n",
       "      <td>-1.650350</td>\n",
       "      <td>-1.848461</td>\n",
       "      <td>-1.527256</td>\n",
       "      <td>-1.357956</td>\n",
       "      <td>-0.816017</td>\n",
       "    </tr>\n",
       "    <tr>\n",
       "      <th>4</th>\n",
       "      <td>-1.044205</td>\n",
       "      <td>0.978846</td>\n",
       "      <td>-0.890923</td>\n",
       "      <td>0.790361</td>\n",
       "      <td>0.207893</td>\n",
       "      <td>1.234443</td>\n",
       "      <td>0.965497</td>\n",
       "      <td>0.267907</td>\n",
       "      <td>1.147213</td>\n",
       "      <td>-0.635712</td>\n",
       "      <td>-1.504301</td>\n",
       "      <td>-1.650350</td>\n",
       "      <td>-1.848461</td>\n",
       "      <td>-1.469562</td>\n",
       "      <td>-1.242394</td>\n",
       "      <td>0.612064</td>\n",
       "    </tr>\n",
       "    <tr>\n",
       "      <th>...</th>\n",
       "      <td>...</td>\n",
       "      <td>...</td>\n",
       "      <td>...</td>\n",
       "      <td>...</td>\n",
       "      <td>...</td>\n",
       "      <td>...</td>\n",
       "      <td>...</td>\n",
       "      <td>...</td>\n",
       "      <td>...</td>\n",
       "      <td>...</td>\n",
       "      <td>...</td>\n",
       "      <td>...</td>\n",
       "      <td>...</td>\n",
       "      <td>...</td>\n",
       "      <td>...</td>\n",
       "      <td>...</td>\n",
       "    </tr>\n",
       "    <tr>\n",
       "      <th>671085</th>\n",
       "      <td>-1.561673</td>\n",
       "      <td>-0.843880</td>\n",
       "      <td>1.122431</td>\n",
       "      <td>1.191122</td>\n",
       "      <td>-0.386769</td>\n",
       "      <td>-2.136455</td>\n",
       "      <td>-0.960029</td>\n",
       "      <td>-0.577990</td>\n",
       "      <td>-2.062320</td>\n",
       "      <td>1.573038</td>\n",
       "      <td>-0.040206</td>\n",
       "      <td>0.613781</td>\n",
       "      <td>-0.091939</td>\n",
       "      <td>-1.008009</td>\n",
       "      <td>-1.242394</td>\n",
       "      <td>0.612064</td>\n",
       "    </tr>\n",
       "    <tr>\n",
       "      <th>671086</th>\n",
       "      <td>-1.302939</td>\n",
       "      <td>-0.010779</td>\n",
       "      <td>1.122431</td>\n",
       "      <td>-0.652379</td>\n",
       "      <td>-0.040109</td>\n",
       "      <td>1.025930</td>\n",
       "      <td>-1.120151</td>\n",
       "      <td>-0.119636</td>\n",
       "      <td>0.958111</td>\n",
       "      <td>1.573038</td>\n",
       "      <td>-0.040206</td>\n",
       "      <td>0.613781</td>\n",
       "      <td>-0.091939</td>\n",
       "      <td>-1.008009</td>\n",
       "      <td>-0.606804</td>\n",
       "      <td>-0.416155</td>\n",
       "    </tr>\n",
       "    <tr>\n",
       "      <th>671087</th>\n",
       "      <td>-1.302939</td>\n",
       "      <td>1.239334</td>\n",
       "      <td>1.122431</td>\n",
       "      <td>0.309448</td>\n",
       "      <td>-1.455907</td>\n",
       "      <td>-1.534249</td>\n",
       "      <td>-0.310417</td>\n",
       "      <td>-1.292886</td>\n",
       "      <td>-1.469849</td>\n",
       "      <td>1.573038</td>\n",
       "      <td>-0.040206</td>\n",
       "      <td>0.613781</td>\n",
       "      <td>-0.091939</td>\n",
       "      <td>-1.008009</td>\n",
       "      <td>0.144347</td>\n",
       "      <td>0.269325</td>\n",
       "    </tr>\n",
       "    <tr>\n",
       "      <th>671088</th>\n",
       "      <td>-1.302939</td>\n",
       "      <td>0.524029</td>\n",
       "      <td>1.122431</td>\n",
       "      <td>0.950665</td>\n",
       "      <td>0.874183</td>\n",
       "      <td>-1.237813</td>\n",
       "      <td>-0.080368</td>\n",
       "      <td>0.741780</td>\n",
       "      <td>-1.299215</td>\n",
       "      <td>1.573038</td>\n",
       "      <td>-0.040206</td>\n",
       "      <td>0.613781</td>\n",
       "      <td>-0.091939</td>\n",
       "      <td>-0.950314</td>\n",
       "      <td>0.375471</td>\n",
       "      <td>-0.473278</td>\n",
       "    </tr>\n",
       "    <tr>\n",
       "      <th>671089</th>\n",
       "      <td>-1.302939</td>\n",
       "      <td>-1.103446</td>\n",
       "      <td>1.122431</td>\n",
       "      <td>-0.171466</td>\n",
       "      <td>1.431520</td>\n",
       "      <td>-2.262806</td>\n",
       "      <td>-1.000566</td>\n",
       "      <td>1.579894</td>\n",
       "      <td>-2.287681</td>\n",
       "      <td>1.573038</td>\n",
       "      <td>-0.040206</td>\n",
       "      <td>0.613781</td>\n",
       "      <td>-0.091939</td>\n",
       "      <td>-0.950314</td>\n",
       "      <td>0.433252</td>\n",
       "      <td>-1.330127</td>\n",
       "    </tr>\n",
       "  </tbody>\n",
       "</table>\n",
       "<p>671090 rows × 16 columns</p>\n",
       "</div>"
      ],
      "text/plain": [
       "        category       amt    gender     state       lat      long  city_pop  \\\n",
       "0       0.508198 -1.088001 -0.890923 -0.091313 -0.753457  0.694205  2.320458   \n",
       "1      -0.526737  1.269302 -0.890923  1.431579  2.112780 -2.654916 -1.070493   \n",
       "2      -1.044205 -0.165228  1.122431 -0.171466  1.518185 -2.103545  0.743555   \n",
       "3       0.766932 -0.235306  1.122431  1.271274 -0.229416  0.849324 -1.121165   \n",
       "4      -1.044205  0.978846 -0.890923  0.790361  0.207893  1.234443  0.965497   \n",
       "...          ...       ...       ...       ...       ...       ...       ...   \n",
       "671085 -1.561673 -0.843880  1.122431  1.191122 -0.386769 -2.136455 -0.960029   \n",
       "671086 -1.302939 -0.010779  1.122431 -0.652379 -0.040109  1.025930 -1.120151   \n",
       "671087 -1.302939  1.239334  1.122431  0.309448 -1.455907 -1.534249 -0.310417   \n",
       "671088 -1.302939  0.524029  1.122431  0.950665  0.874183 -1.237813 -0.080368   \n",
       "671089 -1.302939 -1.103446  1.122431 -0.171466  1.431520 -2.262806 -1.000566   \n",
       "\n",
       "        merch_lat  merch_long      year     month       day      hour  \\\n",
       "0       -0.762158    0.614762 -0.635712 -1.504301 -1.650350 -1.848461   \n",
       "1        2.155286   -2.648962 -0.635712 -1.504301 -1.650350 -1.848461   \n",
       "2        1.683819   -2.140919 -0.635712 -1.504301 -1.650350 -1.848461   \n",
       "3       -0.171090    0.923257 -0.635712 -1.504301 -1.650350 -1.848461   \n",
       "4        0.267907    1.147213 -0.635712 -1.504301 -1.650350 -1.848461   \n",
       "...           ...         ...       ...       ...       ...       ...   \n",
       "671085  -0.577990   -2.062320  1.573038 -0.040206  0.613781 -0.091939   \n",
       "671086  -0.119636    0.958111  1.573038 -0.040206  0.613781 -0.091939   \n",
       "671087  -1.292886   -1.469849  1.573038 -0.040206  0.613781 -0.091939   \n",
       "671088   0.741780   -1.299215  1.573038 -0.040206  0.613781 -0.091939   \n",
       "671089   1.579894   -2.287681  1.573038 -0.040206  0.613781 -0.091939   \n",
       "\n",
       "          minute    second       age  \n",
       "0      -1.700339 -0.664585 -0.930264  \n",
       "1      -1.700339  0.837718 -0.359031  \n",
       "2      -1.642644 -0.780147  0.269325  \n",
       "3      -1.527256 -1.357956 -0.816017  \n",
       "4      -1.469562 -1.242394  0.612064  \n",
       "...          ...       ...       ...  \n",
       "671085 -1.008009 -1.242394  0.612064  \n",
       "671086 -1.008009 -0.606804 -0.416155  \n",
       "671087 -1.008009  0.144347  0.269325  \n",
       "671088 -0.950314  0.375471 -0.473278  \n",
       "671089 -0.950314  0.433252 -1.330127  \n",
       "\n",
       "[671090 rows x 16 columns]"
      ]
     },
     "execution_count": 48,
     "metadata": {},
     "output_type": "execute_result"
    }
   ],
   "source": [
    "df"
   ]
  },
  {
   "cell_type": "code",
   "execution_count": 49,
   "id": "b96dce46",
   "metadata": {},
   "outputs": [],
   "source": [
    "from imblearn import over_sampling"
   ]
  },
  {
   "cell_type": "code",
   "execution_count": 50,
   "id": "2e9512d0",
   "metadata": {},
   "outputs": [],
   "source": [
    "from imblearn.over_sampling import RandomOverSampler"
   ]
  },
  {
   "cell_type": "code",
   "execution_count": 51,
   "id": "a3d5b173",
   "metadata": {},
   "outputs": [],
   "source": [
    "rs=RandomOverSampler(random_state=10)"
   ]
  },
  {
   "cell_type": "code",
   "execution_count": 52,
   "id": "fe0dbb64",
   "metadata": {},
   "outputs": [],
   "source": [
    "x,y=rs.fit_resample(scaled_features,y)"
   ]
  },
  {
   "cell_type": "code",
   "execution_count": 53,
   "id": "887a15b6",
   "metadata": {},
   "outputs": [],
   "source": [
    "from sklearn.model_selection import train_test_split"
   ]
  },
  {
   "cell_type": "code",
   "execution_count": 54,
   "id": "08564976",
   "metadata": {},
   "outputs": [],
   "source": [
    "x_train,x_test,y_train,y_test=train_test_split(x,y,test_size=0.30)"
   ]
  },
  {
   "cell_type": "code",
   "execution_count": 55,
   "id": "1de625a8",
   "metadata": {},
   "outputs": [],
   "source": [
    "from sklearn.linear_model import LogisticRegression "
   ]
  },
  {
   "cell_type": "code",
   "execution_count": 56,
   "id": "f031b681",
   "metadata": {},
   "outputs": [],
   "source": [
    "lr=LogisticRegression()"
   ]
  },
  {
   "cell_type": "code",
   "execution_count": 57,
   "id": "6d9ee7a1",
   "metadata": {},
   "outputs": [
    {
     "data": {
      "text/html": [
       "<style>#sk-container-id-2 {color: black;background-color: white;}#sk-container-id-2 pre{padding: 0;}#sk-container-id-2 div.sk-toggleable {background-color: white;}#sk-container-id-2 label.sk-toggleable__label {cursor: pointer;display: block;width: 100%;margin-bottom: 0;padding: 0.3em;box-sizing: border-box;text-align: center;}#sk-container-id-2 label.sk-toggleable__label-arrow:before {content: \"▸\";float: left;margin-right: 0.25em;color: #696969;}#sk-container-id-2 label.sk-toggleable__label-arrow:hover:before {color: black;}#sk-container-id-2 div.sk-estimator:hover label.sk-toggleable__label-arrow:before {color: black;}#sk-container-id-2 div.sk-toggleable__content {max-height: 0;max-width: 0;overflow: hidden;text-align: left;background-color: #f0f8ff;}#sk-container-id-2 div.sk-toggleable__content pre {margin: 0.2em;color: black;border-radius: 0.25em;background-color: #f0f8ff;}#sk-container-id-2 input.sk-toggleable__control:checked~div.sk-toggleable__content {max-height: 200px;max-width: 100%;overflow: auto;}#sk-container-id-2 input.sk-toggleable__control:checked~label.sk-toggleable__label-arrow:before {content: \"▾\";}#sk-container-id-2 div.sk-estimator input.sk-toggleable__control:checked~label.sk-toggleable__label {background-color: #d4ebff;}#sk-container-id-2 div.sk-label input.sk-toggleable__control:checked~label.sk-toggleable__label {background-color: #d4ebff;}#sk-container-id-2 input.sk-hidden--visually {border: 0;clip: rect(1px 1px 1px 1px);clip: rect(1px, 1px, 1px, 1px);height: 1px;margin: -1px;overflow: hidden;padding: 0;position: absolute;width: 1px;}#sk-container-id-2 div.sk-estimator {font-family: monospace;background-color: #f0f8ff;border: 1px dotted black;border-radius: 0.25em;box-sizing: border-box;margin-bottom: 0.5em;}#sk-container-id-2 div.sk-estimator:hover {background-color: #d4ebff;}#sk-container-id-2 div.sk-parallel-item::after {content: \"\";width: 100%;border-bottom: 1px solid gray;flex-grow: 1;}#sk-container-id-2 div.sk-label:hover label.sk-toggleable__label {background-color: #d4ebff;}#sk-container-id-2 div.sk-serial::before {content: \"\";position: absolute;border-left: 1px solid gray;box-sizing: border-box;top: 0;bottom: 0;left: 50%;z-index: 0;}#sk-container-id-2 div.sk-serial {display: flex;flex-direction: column;align-items: center;background-color: white;padding-right: 0.2em;padding-left: 0.2em;position: relative;}#sk-container-id-2 div.sk-item {position: relative;z-index: 1;}#sk-container-id-2 div.sk-parallel {display: flex;align-items: stretch;justify-content: center;background-color: white;position: relative;}#sk-container-id-2 div.sk-item::before, #sk-container-id-2 div.sk-parallel-item::before {content: \"\";position: absolute;border-left: 1px solid gray;box-sizing: border-box;top: 0;bottom: 0;left: 50%;z-index: -1;}#sk-container-id-2 div.sk-parallel-item {display: flex;flex-direction: column;z-index: 1;position: relative;background-color: white;}#sk-container-id-2 div.sk-parallel-item:first-child::after {align-self: flex-end;width: 50%;}#sk-container-id-2 div.sk-parallel-item:last-child::after {align-self: flex-start;width: 50%;}#sk-container-id-2 div.sk-parallel-item:only-child::after {width: 0;}#sk-container-id-2 div.sk-dashed-wrapped {border: 1px dashed gray;margin: 0 0.4em 0.5em 0.4em;box-sizing: border-box;padding-bottom: 0.4em;background-color: white;}#sk-container-id-2 div.sk-label label {font-family: monospace;font-weight: bold;display: inline-block;line-height: 1.2em;}#sk-container-id-2 div.sk-label-container {text-align: center;}#sk-container-id-2 div.sk-container {/* jupyter's `normalize.less` sets `[hidden] { display: none; }` but bootstrap.min.css set `[hidden] { display: none !important; }` so we also need the `!important` here to be able to override the default hidden behavior on the sphinx rendered scikit-learn.org. See: https://github.com/scikit-learn/scikit-learn/issues/21755 */display: inline-block !important;position: relative;}#sk-container-id-2 div.sk-text-repr-fallback {display: none;}</style><div id=\"sk-container-id-2\" class=\"sk-top-container\"><div class=\"sk-text-repr-fallback\"><pre>LogisticRegression()</pre><b>In a Jupyter environment, please rerun this cell to show the HTML representation or trust the notebook. <br />On GitHub, the HTML representation is unable to render, please try loading this page with nbviewer.org.</b></div><div class=\"sk-container\" hidden><div class=\"sk-item\"><div class=\"sk-estimator sk-toggleable\"><input class=\"sk-toggleable__control sk-hidden--visually\" id=\"sk-estimator-id-2\" type=\"checkbox\" checked><label for=\"sk-estimator-id-2\" class=\"sk-toggleable__label sk-toggleable__label-arrow\">LogisticRegression</label><div class=\"sk-toggleable__content\"><pre>LogisticRegression()</pre></div></div></div></div></div>"
      ],
      "text/plain": [
       "LogisticRegression()"
      ]
     },
     "execution_count": 57,
     "metadata": {},
     "output_type": "execute_result"
    }
   ],
   "source": [
    "lr.fit(x_train,y_train)"
   ]
  },
  {
   "cell_type": "code",
   "execution_count": 58,
   "id": "e07fbeb9",
   "metadata": {},
   "outputs": [],
   "source": [
    "pred=lr.predict(x_test)"
   ]
  },
  {
   "cell_type": "code",
   "execution_count": 59,
   "id": "aa1bfd61",
   "metadata": {},
   "outputs": [],
   "source": [
    "from sklearn.metrics import accuracy_score,classification_report,confusion_matrix"
   ]
  },
  {
   "cell_type": "code",
   "execution_count": 60,
   "id": "82b9aff4",
   "metadata": {},
   "outputs": [
    {
     "name": "stdout",
     "output_type": "stream",
     "text": [
      "69.80299597336803\n"
     ]
    }
   ],
   "source": [
    "print(accuracy_score(pred,y_test)*100)"
   ]
  },
  {
   "cell_type": "code",
   "execution_count": 61,
   "id": "b0a18e60",
   "metadata": {},
   "outputs": [
    {
     "name": "stdout",
     "output_type": "stream",
     "text": [
      "[[128084  48808]\n",
      " [ 72606 152575]]\n"
     ]
    }
   ],
   "source": [
    "print(confusion_matrix(pred,y_test))"
   ]
  },
  {
   "cell_type": "code",
   "execution_count": 62,
   "id": "7aa54b4b",
   "metadata": {},
   "outputs": [
    {
     "name": "stdout",
     "output_type": "stream",
     "text": [
      "              precision    recall  f1-score   support\n",
      "\n",
      "           0       0.64      0.72      0.68    176892\n",
      "           1       0.76      0.68      0.72    225181\n",
      "\n",
      "    accuracy                           0.70    402073\n",
      "   macro avg       0.70      0.70      0.70    402073\n",
      "weighted avg       0.71      0.70      0.70    402073\n",
      "\n"
     ]
    }
   ],
   "source": [
    "print(classification_report(pred,y_test))"
   ]
  },
  {
   "cell_type": "code",
   "execution_count": 63,
   "id": "f32b58e4",
   "metadata": {},
   "outputs": [],
   "source": [
    "from sklearn.model_selection import KFold,cross_val_score"
   ]
  },
  {
   "cell_type": "code",
   "execution_count": 64,
   "id": "1660f86d",
   "metadata": {},
   "outputs": [],
   "source": [
    "kf=KFold(n_splits=5)"
   ]
  },
  {
   "cell_type": "code",
   "execution_count": 65,
   "id": "c4f87168",
   "metadata": {},
   "outputs": [],
   "source": [
    "cv=cross_val_score(lr,x,y,cv=5)"
   ]
  },
  {
   "cell_type": "code",
   "execution_count": 66,
   "id": "2e9d1d3f",
   "metadata": {},
   "outputs": [
    {
     "data": {
      "text/plain": [
       "array([0.46259826, 0.65331712, 0.65681147, 0.70624664, 0.51403853])"
      ]
     },
     "execution_count": 66,
     "metadata": {},
     "output_type": "execute_result"
    }
   ],
   "source": [
    "cv"
   ]
  },
  {
   "cell_type": "code",
   "execution_count": 67,
   "id": "0aec32b4",
   "metadata": {},
   "outputs": [
    {
     "name": "stdout",
     "output_type": "stream",
     "text": [
      "59.8602402617909\n"
     ]
    }
   ],
   "source": [
    "print(np.mean(cv)*100)"
   ]
  },
  {
   "cell_type": "markdown",
   "id": "e83c76bf",
   "metadata": {},
   "source": [
    "# K Nearest Neighbor"
   ]
  },
  {
   "cell_type": "code",
   "execution_count": 68,
   "id": "182e7c77",
   "metadata": {},
   "outputs": [],
   "source": [
    "from sklearn.neighbors import KNeighborsClassifier"
   ]
  },
  {
   "cell_type": "code",
   "execution_count": 69,
   "id": "7f9a742d",
   "metadata": {},
   "outputs": [],
   "source": [
    "knn=KNeighborsClassifier(n_neighbors=3)"
   ]
  },
  {
   "cell_type": "code",
   "execution_count": 70,
   "id": "656e1100",
   "metadata": {},
   "outputs": [
    {
     "data": {
      "text/html": [
       "<style>#sk-container-id-3 {color: black;background-color: white;}#sk-container-id-3 pre{padding: 0;}#sk-container-id-3 div.sk-toggleable {background-color: white;}#sk-container-id-3 label.sk-toggleable__label {cursor: pointer;display: block;width: 100%;margin-bottom: 0;padding: 0.3em;box-sizing: border-box;text-align: center;}#sk-container-id-3 label.sk-toggleable__label-arrow:before {content: \"▸\";float: left;margin-right: 0.25em;color: #696969;}#sk-container-id-3 label.sk-toggleable__label-arrow:hover:before {color: black;}#sk-container-id-3 div.sk-estimator:hover label.sk-toggleable__label-arrow:before {color: black;}#sk-container-id-3 div.sk-toggleable__content {max-height: 0;max-width: 0;overflow: hidden;text-align: left;background-color: #f0f8ff;}#sk-container-id-3 div.sk-toggleable__content pre {margin: 0.2em;color: black;border-radius: 0.25em;background-color: #f0f8ff;}#sk-container-id-3 input.sk-toggleable__control:checked~div.sk-toggleable__content {max-height: 200px;max-width: 100%;overflow: auto;}#sk-container-id-3 input.sk-toggleable__control:checked~label.sk-toggleable__label-arrow:before {content: \"▾\";}#sk-container-id-3 div.sk-estimator input.sk-toggleable__control:checked~label.sk-toggleable__label {background-color: #d4ebff;}#sk-container-id-3 div.sk-label input.sk-toggleable__control:checked~label.sk-toggleable__label {background-color: #d4ebff;}#sk-container-id-3 input.sk-hidden--visually {border: 0;clip: rect(1px 1px 1px 1px);clip: rect(1px, 1px, 1px, 1px);height: 1px;margin: -1px;overflow: hidden;padding: 0;position: absolute;width: 1px;}#sk-container-id-3 div.sk-estimator {font-family: monospace;background-color: #f0f8ff;border: 1px dotted black;border-radius: 0.25em;box-sizing: border-box;margin-bottom: 0.5em;}#sk-container-id-3 div.sk-estimator:hover {background-color: #d4ebff;}#sk-container-id-3 div.sk-parallel-item::after {content: \"\";width: 100%;border-bottom: 1px solid gray;flex-grow: 1;}#sk-container-id-3 div.sk-label:hover label.sk-toggleable__label {background-color: #d4ebff;}#sk-container-id-3 div.sk-serial::before {content: \"\";position: absolute;border-left: 1px solid gray;box-sizing: border-box;top: 0;bottom: 0;left: 50%;z-index: 0;}#sk-container-id-3 div.sk-serial {display: flex;flex-direction: column;align-items: center;background-color: white;padding-right: 0.2em;padding-left: 0.2em;position: relative;}#sk-container-id-3 div.sk-item {position: relative;z-index: 1;}#sk-container-id-3 div.sk-parallel {display: flex;align-items: stretch;justify-content: center;background-color: white;position: relative;}#sk-container-id-3 div.sk-item::before, #sk-container-id-3 div.sk-parallel-item::before {content: \"\";position: absolute;border-left: 1px solid gray;box-sizing: border-box;top: 0;bottom: 0;left: 50%;z-index: -1;}#sk-container-id-3 div.sk-parallel-item {display: flex;flex-direction: column;z-index: 1;position: relative;background-color: white;}#sk-container-id-3 div.sk-parallel-item:first-child::after {align-self: flex-end;width: 50%;}#sk-container-id-3 div.sk-parallel-item:last-child::after {align-self: flex-start;width: 50%;}#sk-container-id-3 div.sk-parallel-item:only-child::after {width: 0;}#sk-container-id-3 div.sk-dashed-wrapped {border: 1px dashed gray;margin: 0 0.4em 0.5em 0.4em;box-sizing: border-box;padding-bottom: 0.4em;background-color: white;}#sk-container-id-3 div.sk-label label {font-family: monospace;font-weight: bold;display: inline-block;line-height: 1.2em;}#sk-container-id-3 div.sk-label-container {text-align: center;}#sk-container-id-3 div.sk-container {/* jupyter's `normalize.less` sets `[hidden] { display: none; }` but bootstrap.min.css set `[hidden] { display: none !important; }` so we also need the `!important` here to be able to override the default hidden behavior on the sphinx rendered scikit-learn.org. See: https://github.com/scikit-learn/scikit-learn/issues/21755 */display: inline-block !important;position: relative;}#sk-container-id-3 div.sk-text-repr-fallback {display: none;}</style><div id=\"sk-container-id-3\" class=\"sk-top-container\"><div class=\"sk-text-repr-fallback\"><pre>KNeighborsClassifier(n_neighbors=3)</pre><b>In a Jupyter environment, please rerun this cell to show the HTML representation or trust the notebook. <br />On GitHub, the HTML representation is unable to render, please try loading this page with nbviewer.org.</b></div><div class=\"sk-container\" hidden><div class=\"sk-item\"><div class=\"sk-estimator sk-toggleable\"><input class=\"sk-toggleable__control sk-hidden--visually\" id=\"sk-estimator-id-3\" type=\"checkbox\" checked><label for=\"sk-estimator-id-3\" class=\"sk-toggleable__label sk-toggleable__label-arrow\">KNeighborsClassifier</label><div class=\"sk-toggleable__content\"><pre>KNeighborsClassifier(n_neighbors=3)</pre></div></div></div></div></div>"
      ],
      "text/plain": [
       "KNeighborsClassifier(n_neighbors=3)"
      ]
     },
     "execution_count": 70,
     "metadata": {},
     "output_type": "execute_result"
    }
   ],
   "source": [
    "knn"
   ]
  },
  {
   "cell_type": "code",
   "execution_count": 71,
   "id": "297fe8a7",
   "metadata": {},
   "outputs": [
    {
     "data": {
      "text/html": [
       "<style>#sk-container-id-4 {color: black;background-color: white;}#sk-container-id-4 pre{padding: 0;}#sk-container-id-4 div.sk-toggleable {background-color: white;}#sk-container-id-4 label.sk-toggleable__label {cursor: pointer;display: block;width: 100%;margin-bottom: 0;padding: 0.3em;box-sizing: border-box;text-align: center;}#sk-container-id-4 label.sk-toggleable__label-arrow:before {content: \"▸\";float: left;margin-right: 0.25em;color: #696969;}#sk-container-id-4 label.sk-toggleable__label-arrow:hover:before {color: black;}#sk-container-id-4 div.sk-estimator:hover label.sk-toggleable__label-arrow:before {color: black;}#sk-container-id-4 div.sk-toggleable__content {max-height: 0;max-width: 0;overflow: hidden;text-align: left;background-color: #f0f8ff;}#sk-container-id-4 div.sk-toggleable__content pre {margin: 0.2em;color: black;border-radius: 0.25em;background-color: #f0f8ff;}#sk-container-id-4 input.sk-toggleable__control:checked~div.sk-toggleable__content {max-height: 200px;max-width: 100%;overflow: auto;}#sk-container-id-4 input.sk-toggleable__control:checked~label.sk-toggleable__label-arrow:before {content: \"▾\";}#sk-container-id-4 div.sk-estimator input.sk-toggleable__control:checked~label.sk-toggleable__label {background-color: #d4ebff;}#sk-container-id-4 div.sk-label input.sk-toggleable__control:checked~label.sk-toggleable__label {background-color: #d4ebff;}#sk-container-id-4 input.sk-hidden--visually {border: 0;clip: rect(1px 1px 1px 1px);clip: rect(1px, 1px, 1px, 1px);height: 1px;margin: -1px;overflow: hidden;padding: 0;position: absolute;width: 1px;}#sk-container-id-4 div.sk-estimator {font-family: monospace;background-color: #f0f8ff;border: 1px dotted black;border-radius: 0.25em;box-sizing: border-box;margin-bottom: 0.5em;}#sk-container-id-4 div.sk-estimator:hover {background-color: #d4ebff;}#sk-container-id-4 div.sk-parallel-item::after {content: \"\";width: 100%;border-bottom: 1px solid gray;flex-grow: 1;}#sk-container-id-4 div.sk-label:hover label.sk-toggleable__label {background-color: #d4ebff;}#sk-container-id-4 div.sk-serial::before {content: \"\";position: absolute;border-left: 1px solid gray;box-sizing: border-box;top: 0;bottom: 0;left: 50%;z-index: 0;}#sk-container-id-4 div.sk-serial {display: flex;flex-direction: column;align-items: center;background-color: white;padding-right: 0.2em;padding-left: 0.2em;position: relative;}#sk-container-id-4 div.sk-item {position: relative;z-index: 1;}#sk-container-id-4 div.sk-parallel {display: flex;align-items: stretch;justify-content: center;background-color: white;position: relative;}#sk-container-id-4 div.sk-item::before, #sk-container-id-4 div.sk-parallel-item::before {content: \"\";position: absolute;border-left: 1px solid gray;box-sizing: border-box;top: 0;bottom: 0;left: 50%;z-index: -1;}#sk-container-id-4 div.sk-parallel-item {display: flex;flex-direction: column;z-index: 1;position: relative;background-color: white;}#sk-container-id-4 div.sk-parallel-item:first-child::after {align-self: flex-end;width: 50%;}#sk-container-id-4 div.sk-parallel-item:last-child::after {align-self: flex-start;width: 50%;}#sk-container-id-4 div.sk-parallel-item:only-child::after {width: 0;}#sk-container-id-4 div.sk-dashed-wrapped {border: 1px dashed gray;margin: 0 0.4em 0.5em 0.4em;box-sizing: border-box;padding-bottom: 0.4em;background-color: white;}#sk-container-id-4 div.sk-label label {font-family: monospace;font-weight: bold;display: inline-block;line-height: 1.2em;}#sk-container-id-4 div.sk-label-container {text-align: center;}#sk-container-id-4 div.sk-container {/* jupyter's `normalize.less` sets `[hidden] { display: none; }` but bootstrap.min.css set `[hidden] { display: none !important; }` so we also need the `!important` here to be able to override the default hidden behavior on the sphinx rendered scikit-learn.org. See: https://github.com/scikit-learn/scikit-learn/issues/21755 */display: inline-block !important;position: relative;}#sk-container-id-4 div.sk-text-repr-fallback {display: none;}</style><div id=\"sk-container-id-4\" class=\"sk-top-container\"><div class=\"sk-text-repr-fallback\"><pre>KNeighborsClassifier(n_neighbors=3)</pre><b>In a Jupyter environment, please rerun this cell to show the HTML representation or trust the notebook. <br />On GitHub, the HTML representation is unable to render, please try loading this page with nbviewer.org.</b></div><div class=\"sk-container\" hidden><div class=\"sk-item\"><div class=\"sk-estimator sk-toggleable\"><input class=\"sk-toggleable__control sk-hidden--visually\" id=\"sk-estimator-id-4\" type=\"checkbox\" checked><label for=\"sk-estimator-id-4\" class=\"sk-toggleable__label sk-toggleable__label-arrow\">KNeighborsClassifier</label><div class=\"sk-toggleable__content\"><pre>KNeighborsClassifier(n_neighbors=3)</pre></div></div></div></div></div>"
      ],
      "text/plain": [
       "KNeighborsClassifier(n_neighbors=3)"
      ]
     },
     "execution_count": 71,
     "metadata": {},
     "output_type": "execute_result"
    }
   ],
   "source": [
    "knn.fit(x_train,y_train)"
   ]
  },
  {
   "cell_type": "code",
   "execution_count": 72,
   "id": "3c4430f5",
   "metadata": {},
   "outputs": [],
   "source": [
    "pred1=knn.predict(x_test)"
   ]
  },
  {
   "cell_type": "code",
   "execution_count": 73,
   "id": "ebfdff24",
   "metadata": {},
   "outputs": [
    {
     "name": "stdout",
     "output_type": "stream",
     "text": [
      "              precision    recall  f1-score   support\n",
      "\n",
      "           0       1.00      1.00      1.00    200316\n",
      "           1       1.00      1.00      1.00    201757\n",
      "\n",
      "    accuracy                           1.00    402073\n",
      "   macro avg       1.00      1.00      1.00    402073\n",
      "weighted avg       1.00      1.00      1.00    402073\n",
      "\n"
     ]
    }
   ],
   "source": [
    "print(classification_report(pred1,y_test))"
   ]
  },
  {
   "cell_type": "code",
   "execution_count": 74,
   "id": "54f52023",
   "metadata": {},
   "outputs": [
    {
     "name": "stdout",
     "output_type": "stream",
     "text": [
      "99.90698206544583\n"
     ]
    }
   ],
   "source": [
    "print(accuracy_score(pred1,y_test)*100)"
   ]
  },
  {
   "cell_type": "code",
   "execution_count": 75,
   "id": "37bce1cc",
   "metadata": {},
   "outputs": [
    {
     "name": "stdout",
     "output_type": "stream",
     "text": [
      "[[200316      0]\n",
      " [   374 201383]]\n"
     ]
    }
   ],
   "source": [
    "print(confusion_matrix(pred1,y_test))"
   ]
  },
  {
   "cell_type": "markdown",
   "id": "8280faf8",
   "metadata": {},
   "source": [
    "# Random Forest Classifier"
   ]
  },
  {
   "cell_type": "code",
   "execution_count": 76,
   "id": "d27ebab8",
   "metadata": {},
   "outputs": [],
   "source": [
    "from sklearn.ensemble import RandomForestClassifier"
   ]
  },
  {
   "cell_type": "code",
   "execution_count": 77,
   "id": "8663ec1d",
   "metadata": {},
   "outputs": [],
   "source": [
    "rf=RandomForestClassifier(n_estimators=150,criterion='entropy')"
   ]
  },
  {
   "cell_type": "code",
   "execution_count": 78,
   "id": "3472ee70",
   "metadata": {},
   "outputs": [
    {
     "data": {
      "text/html": [
       "<style>#sk-container-id-5 {color: black;background-color: white;}#sk-container-id-5 pre{padding: 0;}#sk-container-id-5 div.sk-toggleable {background-color: white;}#sk-container-id-5 label.sk-toggleable__label {cursor: pointer;display: block;width: 100%;margin-bottom: 0;padding: 0.3em;box-sizing: border-box;text-align: center;}#sk-container-id-5 label.sk-toggleable__label-arrow:before {content: \"▸\";float: left;margin-right: 0.25em;color: #696969;}#sk-container-id-5 label.sk-toggleable__label-arrow:hover:before {color: black;}#sk-container-id-5 div.sk-estimator:hover label.sk-toggleable__label-arrow:before {color: black;}#sk-container-id-5 div.sk-toggleable__content {max-height: 0;max-width: 0;overflow: hidden;text-align: left;background-color: #f0f8ff;}#sk-container-id-5 div.sk-toggleable__content pre {margin: 0.2em;color: black;border-radius: 0.25em;background-color: #f0f8ff;}#sk-container-id-5 input.sk-toggleable__control:checked~div.sk-toggleable__content {max-height: 200px;max-width: 100%;overflow: auto;}#sk-container-id-5 input.sk-toggleable__control:checked~label.sk-toggleable__label-arrow:before {content: \"▾\";}#sk-container-id-5 div.sk-estimator input.sk-toggleable__control:checked~label.sk-toggleable__label {background-color: #d4ebff;}#sk-container-id-5 div.sk-label input.sk-toggleable__control:checked~label.sk-toggleable__label {background-color: #d4ebff;}#sk-container-id-5 input.sk-hidden--visually {border: 0;clip: rect(1px 1px 1px 1px);clip: rect(1px, 1px, 1px, 1px);height: 1px;margin: -1px;overflow: hidden;padding: 0;position: absolute;width: 1px;}#sk-container-id-5 div.sk-estimator {font-family: monospace;background-color: #f0f8ff;border: 1px dotted black;border-radius: 0.25em;box-sizing: border-box;margin-bottom: 0.5em;}#sk-container-id-5 div.sk-estimator:hover {background-color: #d4ebff;}#sk-container-id-5 div.sk-parallel-item::after {content: \"\";width: 100%;border-bottom: 1px solid gray;flex-grow: 1;}#sk-container-id-5 div.sk-label:hover label.sk-toggleable__label {background-color: #d4ebff;}#sk-container-id-5 div.sk-serial::before {content: \"\";position: absolute;border-left: 1px solid gray;box-sizing: border-box;top: 0;bottom: 0;left: 50%;z-index: 0;}#sk-container-id-5 div.sk-serial {display: flex;flex-direction: column;align-items: center;background-color: white;padding-right: 0.2em;padding-left: 0.2em;position: relative;}#sk-container-id-5 div.sk-item {position: relative;z-index: 1;}#sk-container-id-5 div.sk-parallel {display: flex;align-items: stretch;justify-content: center;background-color: white;position: relative;}#sk-container-id-5 div.sk-item::before, #sk-container-id-5 div.sk-parallel-item::before {content: \"\";position: absolute;border-left: 1px solid gray;box-sizing: border-box;top: 0;bottom: 0;left: 50%;z-index: -1;}#sk-container-id-5 div.sk-parallel-item {display: flex;flex-direction: column;z-index: 1;position: relative;background-color: white;}#sk-container-id-5 div.sk-parallel-item:first-child::after {align-self: flex-end;width: 50%;}#sk-container-id-5 div.sk-parallel-item:last-child::after {align-self: flex-start;width: 50%;}#sk-container-id-5 div.sk-parallel-item:only-child::after {width: 0;}#sk-container-id-5 div.sk-dashed-wrapped {border: 1px dashed gray;margin: 0 0.4em 0.5em 0.4em;box-sizing: border-box;padding-bottom: 0.4em;background-color: white;}#sk-container-id-5 div.sk-label label {font-family: monospace;font-weight: bold;display: inline-block;line-height: 1.2em;}#sk-container-id-5 div.sk-label-container {text-align: center;}#sk-container-id-5 div.sk-container {/* jupyter's `normalize.less` sets `[hidden] { display: none; }` but bootstrap.min.css set `[hidden] { display: none !important; }` so we also need the `!important` here to be able to override the default hidden behavior on the sphinx rendered scikit-learn.org. See: https://github.com/scikit-learn/scikit-learn/issues/21755 */display: inline-block !important;position: relative;}#sk-container-id-5 div.sk-text-repr-fallback {display: none;}</style><div id=\"sk-container-id-5\" class=\"sk-top-container\"><div class=\"sk-text-repr-fallback\"><pre>RandomForestClassifier(criterion=&#x27;entropy&#x27;, n_estimators=150)</pre><b>In a Jupyter environment, please rerun this cell to show the HTML representation or trust the notebook. <br />On GitHub, the HTML representation is unable to render, please try loading this page with nbviewer.org.</b></div><div class=\"sk-container\" hidden><div class=\"sk-item\"><div class=\"sk-estimator sk-toggleable\"><input class=\"sk-toggleable__control sk-hidden--visually\" id=\"sk-estimator-id-5\" type=\"checkbox\" checked><label for=\"sk-estimator-id-5\" class=\"sk-toggleable__label sk-toggleable__label-arrow\">RandomForestClassifier</label><div class=\"sk-toggleable__content\"><pre>RandomForestClassifier(criterion=&#x27;entropy&#x27;, n_estimators=150)</pre></div></div></div></div></div>"
      ],
      "text/plain": [
       "RandomForestClassifier(criterion='entropy', n_estimators=150)"
      ]
     },
     "execution_count": 78,
     "metadata": {},
     "output_type": "execute_result"
    }
   ],
   "source": [
    "rf.fit(x_train,y_train)"
   ]
  },
  {
   "cell_type": "code",
   "execution_count": 79,
   "id": "162181f4",
   "metadata": {},
   "outputs": [],
   "source": [
    "pred2=rf.predict(x_test)"
   ]
  },
  {
   "cell_type": "code",
   "execution_count": 80,
   "id": "022ef38a",
   "metadata": {},
   "outputs": [
    {
     "name": "stdout",
     "output_type": "stream",
     "text": [
      "[[200666      0]\n",
      " [    24 201383]]\n"
     ]
    }
   ],
   "source": [
    "print(confusion_matrix(pred2,y_test))"
   ]
  },
  {
   "cell_type": "code",
   "execution_count": 81,
   "id": "b125fad7",
   "metadata": {},
   "outputs": [
    {
     "name": "stdout",
     "output_type": "stream",
     "text": [
      "              precision    recall  f1-score   support\n",
      "\n",
      "           0       1.00      1.00      1.00    200666\n",
      "           1       1.00      1.00      1.00    201407\n",
      "\n",
      "    accuracy                           1.00    402073\n",
      "   macro avg       1.00      1.00      1.00    402073\n",
      "weighted avg       1.00      1.00      1.00    402073\n",
      "\n"
     ]
    }
   ],
   "source": [
    "print(classification_report(pred2,y_test))"
   ]
  },
  {
   "cell_type": "code",
   "execution_count": 82,
   "id": "67f5d774",
   "metadata": {},
   "outputs": [
    {
     "name": "stdout",
     "output_type": "stream",
     "text": [
      "99.994030934681\n"
     ]
    }
   ],
   "source": [
    "print(accuracy_score(pred2,y_test)*100)"
   ]
  }
 ],
 "metadata": {
  "kernelspec": {
   "display_name": "Python 3 (ipykernel)",
   "language": "python",
   "name": "python3"
  },
  "language_info": {
   "codemirror_mode": {
    "name": "ipython",
    "version": 3
   },
   "file_extension": ".py",
   "mimetype": "text/x-python",
   "name": "python",
   "nbconvert_exporter": "python",
   "pygments_lexer": "ipython3",
   "version": "3.9.12"
  }
 },
 "nbformat": 4,
 "nbformat_minor": 5
}
